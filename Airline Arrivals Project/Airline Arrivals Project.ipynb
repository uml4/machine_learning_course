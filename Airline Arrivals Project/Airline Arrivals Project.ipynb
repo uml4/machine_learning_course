{
 "cells": [
  {
   "cell_type": "markdown",
   "metadata": {},
   "source": [
    "# Airline Arrivals Project\n",
    "\n",
    "\n",
    "\n",
    "Use this dataset of airline arrival information to predict how late flights\n",
    "will be. A flight only counts as late if it is more than 30 minutes late.\n",
    "\n",
    "\n",
    "1. The project should follow guideline as previous projects.\n",
    "2. Apply models in Naïve Bayes, Logistic Regression, Decision\n",
    "Tree, Random Forest, Gradient Boosting and SVM.\n",
    "3. Apply PCA, SelectKBest and RFE for feature selections.\n",
    "4. Using gridsearchCV to obtain best parameters for models.\n",
    "5. Compare performances among models, write up analysis\n",
    "why the model is good or bad in the algorithmic approach\n",
    "(explain why the algorithm is good or bad for the dataset\n",
    "structure, can you do something to improve the model?)\n",
    "6. Include the conclusions.\n",
    "\n",
    "\n"
   ]
  },
  {
   "cell_type": "markdown",
   "metadata": {},
   "source": [
    "## 1. Data pre-processing\n",
    "### 1.1 Importing Various Modules"
   ]
  },
  {
   "cell_type": "code",
   "execution_count": 22,
   "metadata": {},
   "outputs": [],
   "source": [
    "import pandas as pd\n",
    "import matplotlib.pyplot as plt\n",
    "import seaborn as sns # for plotting graphs\n",
    "%matplotlib inline\n",
    "import numpy as np\n",
    "import sklearn\n",
    "import time\n",
    "# Import model\n",
    "from sklearn.model_selection import train_test_split\n",
    "from sklearn.linear_model import LinearRegression\n",
    "from sklearn import metrics\n",
    "from sklearn.metrics import r2_score\n",
    "from sklearn.model_selection import KFold\n",
    "from sklearn.model_selection import cross_val_score, cross_val_predict\n",
    "from sklearn.preprocessing import StandardScaler\n",
    "from sklearn.preprocessing import MinMaxScaler\n",
    "from sklearn.decomposition import PCA"
   ]
  },
  {
   "cell_type": "markdown",
   "metadata": {},
   "source": [
    "### 1.2 Reading the data from a CSV file\n"
   ]
  },
  {
   "cell_type": "code",
   "execution_count": 23,
   "metadata": {},
   "outputs": [
    {
     "data": {
      "text/html": [
       "<div>\n",
       "<style scoped>\n",
       "    .dataframe tbody tr th:only-of-type {\n",
       "        vertical-align: middle;\n",
       "    }\n",
       "\n",
       "    .dataframe tbody tr th {\n",
       "        vertical-align: top;\n",
       "    }\n",
       "\n",
       "    .dataframe thead th {\n",
       "        text-align: right;\n",
       "    }\n",
       "</style>\n",
       "<table border=\"1\" class=\"dataframe\">\n",
       "  <thead>\n",
       "    <tr style=\"text-align: right;\">\n",
       "      <th></th>\n",
       "      <th>Year</th>\n",
       "      <th>Month</th>\n",
       "      <th>DayofMonth</th>\n",
       "      <th>DayOfWeek</th>\n",
       "      <th>DepTime</th>\n",
       "      <th>CRSDepTime</th>\n",
       "      <th>ArrTime</th>\n",
       "      <th>CRSArrTime</th>\n",
       "      <th>UniqueCarrier</th>\n",
       "      <th>FlightNum</th>\n",
       "      <th>TailNum</th>\n",
       "      <th>ActualElapsedTime</th>\n",
       "      <th>CRSElapsedTime</th>\n",
       "      <th>AirTime</th>\n",
       "      <th>ArrDelay</th>\n",
       "      <th>DepDelay</th>\n",
       "      <th>Origin</th>\n",
       "      <th>Dest</th>\n",
       "      <th>Distance</th>\n",
       "      <th>TaxiIn</th>\n",
       "      <th>TaxiOut</th>\n",
       "      <th>Cancelled</th>\n",
       "      <th>CancellationCode</th>\n",
       "      <th>Diverted</th>\n",
       "      <th>CarrierDelay</th>\n",
       "      <th>WeatherDelay</th>\n",
       "      <th>NASDelay</th>\n",
       "      <th>SecurityDelay</th>\n",
       "      <th>LateAircraftDelay</th>\n",
       "    </tr>\n",
       "  </thead>\n",
       "  <tbody>\n",
       "    <tr>\n",
       "      <td>0</td>\n",
       "      <td>2008</td>\n",
       "      <td>1</td>\n",
       "      <td>3</td>\n",
       "      <td>4</td>\n",
       "      <td>2003.0</td>\n",
       "      <td>1955</td>\n",
       "      <td>2211.0</td>\n",
       "      <td>2225</td>\n",
       "      <td>WN</td>\n",
       "      <td>335</td>\n",
       "      <td>N712SW</td>\n",
       "      <td>128.0</td>\n",
       "      <td>150.0</td>\n",
       "      <td>116.0</td>\n",
       "      <td>-14.0</td>\n",
       "      <td>8.0</td>\n",
       "      <td>IAD</td>\n",
       "      <td>TPA</td>\n",
       "      <td>810</td>\n",
       "      <td>4.0</td>\n",
       "      <td>8.0</td>\n",
       "      <td>0</td>\n",
       "      <td>NaN</td>\n",
       "      <td>0</td>\n",
       "      <td>NaN</td>\n",
       "      <td>NaN</td>\n",
       "      <td>NaN</td>\n",
       "      <td>NaN</td>\n",
       "      <td>NaN</td>\n",
       "    </tr>\n",
       "    <tr>\n",
       "      <td>1</td>\n",
       "      <td>2008</td>\n",
       "      <td>1</td>\n",
       "      <td>3</td>\n",
       "      <td>4</td>\n",
       "      <td>754.0</td>\n",
       "      <td>735</td>\n",
       "      <td>1002.0</td>\n",
       "      <td>1000</td>\n",
       "      <td>WN</td>\n",
       "      <td>3231</td>\n",
       "      <td>N772SW</td>\n",
       "      <td>128.0</td>\n",
       "      <td>145.0</td>\n",
       "      <td>113.0</td>\n",
       "      <td>2.0</td>\n",
       "      <td>19.0</td>\n",
       "      <td>IAD</td>\n",
       "      <td>TPA</td>\n",
       "      <td>810</td>\n",
       "      <td>5.0</td>\n",
       "      <td>10.0</td>\n",
       "      <td>0</td>\n",
       "      <td>NaN</td>\n",
       "      <td>0</td>\n",
       "      <td>NaN</td>\n",
       "      <td>NaN</td>\n",
       "      <td>NaN</td>\n",
       "      <td>NaN</td>\n",
       "      <td>NaN</td>\n",
       "    </tr>\n",
       "    <tr>\n",
       "      <td>2</td>\n",
       "      <td>2008</td>\n",
       "      <td>1</td>\n",
       "      <td>3</td>\n",
       "      <td>4</td>\n",
       "      <td>628.0</td>\n",
       "      <td>620</td>\n",
       "      <td>804.0</td>\n",
       "      <td>750</td>\n",
       "      <td>WN</td>\n",
       "      <td>448</td>\n",
       "      <td>N428WN</td>\n",
       "      <td>96.0</td>\n",
       "      <td>90.0</td>\n",
       "      <td>76.0</td>\n",
       "      <td>14.0</td>\n",
       "      <td>8.0</td>\n",
       "      <td>IND</td>\n",
       "      <td>BWI</td>\n",
       "      <td>515</td>\n",
       "      <td>3.0</td>\n",
       "      <td>17.0</td>\n",
       "      <td>0</td>\n",
       "      <td>NaN</td>\n",
       "      <td>0</td>\n",
       "      <td>NaN</td>\n",
       "      <td>NaN</td>\n",
       "      <td>NaN</td>\n",
       "      <td>NaN</td>\n",
       "      <td>NaN</td>\n",
       "    </tr>\n",
       "    <tr>\n",
       "      <td>3</td>\n",
       "      <td>2008</td>\n",
       "      <td>1</td>\n",
       "      <td>3</td>\n",
       "      <td>4</td>\n",
       "      <td>926.0</td>\n",
       "      <td>930</td>\n",
       "      <td>1054.0</td>\n",
       "      <td>1100</td>\n",
       "      <td>WN</td>\n",
       "      <td>1746</td>\n",
       "      <td>N612SW</td>\n",
       "      <td>88.0</td>\n",
       "      <td>90.0</td>\n",
       "      <td>78.0</td>\n",
       "      <td>-6.0</td>\n",
       "      <td>-4.0</td>\n",
       "      <td>IND</td>\n",
       "      <td>BWI</td>\n",
       "      <td>515</td>\n",
       "      <td>3.0</td>\n",
       "      <td>7.0</td>\n",
       "      <td>0</td>\n",
       "      <td>NaN</td>\n",
       "      <td>0</td>\n",
       "      <td>NaN</td>\n",
       "      <td>NaN</td>\n",
       "      <td>NaN</td>\n",
       "      <td>NaN</td>\n",
       "      <td>NaN</td>\n",
       "    </tr>\n",
       "    <tr>\n",
       "      <td>4</td>\n",
       "      <td>2008</td>\n",
       "      <td>1</td>\n",
       "      <td>3</td>\n",
       "      <td>4</td>\n",
       "      <td>1829.0</td>\n",
       "      <td>1755</td>\n",
       "      <td>1959.0</td>\n",
       "      <td>1925</td>\n",
       "      <td>WN</td>\n",
       "      <td>3920</td>\n",
       "      <td>N464WN</td>\n",
       "      <td>90.0</td>\n",
       "      <td>90.0</td>\n",
       "      <td>77.0</td>\n",
       "      <td>34.0</td>\n",
       "      <td>34.0</td>\n",
       "      <td>IND</td>\n",
       "      <td>BWI</td>\n",
       "      <td>515</td>\n",
       "      <td>3.0</td>\n",
       "      <td>10.0</td>\n",
       "      <td>0</td>\n",
       "      <td>NaN</td>\n",
       "      <td>0</td>\n",
       "      <td>2.0</td>\n",
       "      <td>0.0</td>\n",
       "      <td>0.0</td>\n",
       "      <td>0.0</td>\n",
       "      <td>32.0</td>\n",
       "    </tr>\n",
       "  </tbody>\n",
       "</table>\n",
       "</div>"
      ],
      "text/plain": [
       "   Year  Month  DayofMonth  DayOfWeek  DepTime  CRSDepTime  ArrTime  \\\n",
       "0  2008      1           3          4   2003.0        1955   2211.0   \n",
       "1  2008      1           3          4    754.0         735   1002.0   \n",
       "2  2008      1           3          4    628.0         620    804.0   \n",
       "3  2008      1           3          4    926.0         930   1054.0   \n",
       "4  2008      1           3          4   1829.0        1755   1959.0   \n",
       "\n",
       "   CRSArrTime UniqueCarrier  FlightNum TailNum  ActualElapsedTime  \\\n",
       "0        2225            WN        335  N712SW              128.0   \n",
       "1        1000            WN       3231  N772SW              128.0   \n",
       "2         750            WN        448  N428WN               96.0   \n",
       "3        1100            WN       1746  N612SW               88.0   \n",
       "4        1925            WN       3920  N464WN               90.0   \n",
       "\n",
       "   CRSElapsedTime  AirTime  ArrDelay  DepDelay Origin Dest  Distance  TaxiIn  \\\n",
       "0           150.0    116.0     -14.0       8.0    IAD  TPA       810     4.0   \n",
       "1           145.0    113.0       2.0      19.0    IAD  TPA       810     5.0   \n",
       "2            90.0     76.0      14.0       8.0    IND  BWI       515     3.0   \n",
       "3            90.0     78.0      -6.0      -4.0    IND  BWI       515     3.0   \n",
       "4            90.0     77.0      34.0      34.0    IND  BWI       515     3.0   \n",
       "\n",
       "   TaxiOut  Cancelled CancellationCode  Diverted  CarrierDelay  WeatherDelay  \\\n",
       "0      8.0          0              NaN         0           NaN           NaN   \n",
       "1     10.0          0              NaN         0           NaN           NaN   \n",
       "2     17.0          0              NaN         0           NaN           NaN   \n",
       "3      7.0          0              NaN         0           NaN           NaN   \n",
       "4     10.0          0              NaN         0           2.0           0.0   \n",
       "\n",
       "   NASDelay  SecurityDelay  LateAircraftDelay  \n",
       "0       NaN            NaN                NaN  \n",
       "1       NaN            NaN                NaN  \n",
       "2       NaN            NaN                NaN  \n",
       "3       NaN            NaN                NaN  \n",
       "4       0.0            0.0               32.0  "
      ]
     },
     "execution_count": 23,
     "metadata": {},
     "output_type": "execute_result"
    }
   ],
   "source": [
    "pd.set_option('display.max_columns', None)\n",
    "data = pd.read_csv(\"2008.csv\")\n",
    "data.head()"
   ]
  },
  {
   "cell_type": "markdown",
   "metadata": {},
   "source": [
    "**Variable descriptions\n",
    "    Name\tDescription\n",
    "    1\tYear\t1987-2008\n",
    "    2\tMonth\t1-12\n",
    "    3\tDayofMonth\t1-31\n",
    "    4\tDayOfWeek\t1 (Monday) - 7 (Sunday)\n",
    "    5\tDepTime\tactual departure time (local, hhmm)\n",
    "    6\tCRSDepTime\tscheduled departure time (local, hhmm)\n",
    "    7\tArrTime\tactual arrival time (local, hhmm)\n",
    "    8\tCRSArrTime\tscheduled arrival time (local, hhmm)\n",
    "    9\tUniqueCarrier\tunique carrier code\n",
    "    10\tFlightNum\tflight number\n",
    "    11\tTailNum\tplane tail number\n",
    "    12\tActualElapsedTime\tin minutes\n",
    "    13\tCRSElapsedTime\tin minutes\n",
    "    14\tAirTime\tin minutes\n",
    "    15\tArrDelay\tarrival delay, in minutes\n",
    "    16\tDepDelay\tdeparture delay, in minutes\n",
    "    17\tOrigin\torigin IATA airport code\n",
    "    18\tDest\tdestination IATA airport code\n",
    "    19\tDistance\tin miles\n",
    "    20\tTaxiIn\ttaxi in time, in minutes\n",
    "    21\tTaxiOut\ttaxi out time in minutes\n",
    "    22\tCancelled\twas the flight cancelled?\n",
    "    23\tCancellationCode\treason for cancellation (A = carrier, B = weather, C = NAS, D = security)\n",
    "    24\tDiverted\t1 = yes, 0 = no\n",
    "    25\tCarrierDelay\tin minutes\n",
    "    26\tWeatherDelay\tin minutes\n",
    "    27\tNASDelay\tin minutes\n",
    "    28\tSecurityDelay\tin minutes\n",
    "    29\tLateAircraftDelay\tin minutes"
   ]
  },
  {
   "cell_type": "code",
   "execution_count": 24,
   "metadata": {},
   "outputs": [
    {
     "data": {
      "text/plain": [
       "(7009728, 29)"
      ]
     },
     "execution_count": 24,
     "metadata": {},
     "output_type": "execute_result"
    }
   ],
   "source": [
    "data.shape"
   ]
  },
  {
   "cell_type": "code",
   "execution_count": 25,
   "metadata": {},
   "outputs": [
    {
     "name": "stdout",
     "output_type": "stream",
     "text": [
      "<class 'pandas.core.frame.DataFrame'>\n",
      "RangeIndex: 7009728 entries, 0 to 7009727\n",
      "Data columns (total 29 columns):\n",
      "Year                 int64\n",
      "Month                int64\n",
      "DayofMonth           int64\n",
      "DayOfWeek            int64\n",
      "DepTime              float64\n",
      "CRSDepTime           int64\n",
      "ArrTime              float64\n",
      "CRSArrTime           int64\n",
      "UniqueCarrier        object\n",
      "FlightNum            int64\n",
      "TailNum              object\n",
      "ActualElapsedTime    float64\n",
      "CRSElapsedTime       float64\n",
      "AirTime              float64\n",
      "ArrDelay             float64\n",
      "DepDelay             float64\n",
      "Origin               object\n",
      "Dest                 object\n",
      "Distance             int64\n",
      "TaxiIn               float64\n",
      "TaxiOut              float64\n",
      "Cancelled            int64\n",
      "CancellationCode     object\n",
      "Diverted             int64\n",
      "CarrierDelay         float64\n",
      "WeatherDelay         float64\n",
      "NASDelay             float64\n",
      "SecurityDelay        float64\n",
      "LateAircraftDelay    float64\n",
      "dtypes: float64(14), int64(10), object(5)\n",
      "memory usage: 1.5+ GB\n"
     ]
    }
   ],
   "source": [
    "data.info()"
   ]
  },
  {
   "cell_type": "code",
   "execution_count": 26,
   "metadata": {},
   "outputs": [
    {
     "name": "stdout",
     "output_type": "stream",
     "text": [
      "Index(['UniqueCarrier', 'TailNum', 'Origin', 'Dest', 'CancellationCode'], dtype='object')\n"
     ]
    }
   ],
   "source": [
    "# Identify object columns\n",
    "print(data.select_dtypes(['object']).columns)"
   ]
  },
  {
   "cell_type": "markdown",
   "metadata": {},
   "source": [
    "### 1.3 Check missing values"
   ]
  },
  {
   "cell_type": "code",
   "execution_count": 27,
   "metadata": {},
   "outputs": [
    {
     "data": {
      "text/plain": [
       "Year                  0.000000\n",
       "Month                 0.000000\n",
       "DayofMonth            0.000000\n",
       "DayOfWeek             0.000000\n",
       "DepTime               1.943670\n",
       "CRSDepTime            0.000000\n",
       "ArrTime               2.163408\n",
       "CRSArrTime            0.000000\n",
       "UniqueCarrier         0.000000\n",
       "FlightNum             0.000000\n",
       "TailNum               1.189276\n",
       "ActualElapsedTime     2.206919\n",
       "CRSElapsedTime        0.012040\n",
       "AirTime               2.206919\n",
       "ArrDelay              2.206919\n",
       "DepDelay              1.943670\n",
       "Origin                0.000000\n",
       "Dest                  0.000000\n",
       "Distance              0.000000\n",
       "TaxiIn                2.163408\n",
       "TaxiOut               1.955254\n",
       "Cancelled             0.000000\n",
       "CancellationCode     98.039382\n",
       "Diverted              0.000000\n",
       "CarrierDelay         78.248300\n",
       "WeatherDelay         78.248300\n",
       "NASDelay             78.248300\n",
       "SecurityDelay        78.248300\n",
       "LateAircraftDelay    78.248300\n",
       "dtype: float64"
      ]
     },
     "execution_count": 27,
     "metadata": {},
     "output_type": "execute_result"
    }
   ],
   "source": [
    "# Percentage of missing values\n",
    "data.isnull().sum()/len(data)*100"
   ]
  },
  {
   "cell_type": "markdown",
   "metadata": {},
   "source": [
    "**CancellationCode  CarrierDelay  WeatherDelay  NASDelay   SecurityDelay   LateAircraftDelay   are over 70%  -> drop these columns\n",
    "** The other missing value is around 2% -> small amount -> removed these row data"
   ]
  },
  {
   "cell_type": "code",
   "execution_count": 28,
   "metadata": {},
   "outputs": [],
   "source": [
    "data = data.drop(['CancellationCode','CarrierDelay', 'WeatherDelay', 'NASDelay','SecurityDelay','LateAircraftDelay'], axis=1)\n",
    "data = data.dropna()\n"
   ]
  },
  {
   "cell_type": "markdown",
   "metadata": {},
   "source": [
    "#### We call CarrierDelay  WeatherDelay  NASDelay   SecurityDelay   LateAircraftDelay are Other_delay"
   ]
  },
  {
   "cell_type": "code",
   "execution_count": 29,
   "metadata": {},
   "outputs": [],
   "source": [
    "data['other_delay'] = data['ActualElapsedTime'] - data['AirTime'] - data['ArrDelay'] - data['DepDelay']"
   ]
  },
  {
   "cell_type": "code",
   "execution_count": 30,
   "metadata": {},
   "outputs": [
    {
     "data": {
      "text/plain": [
       "(6855024, 24)"
      ]
     },
     "execution_count": 30,
     "metadata": {},
     "output_type": "execute_result"
    }
   ],
   "source": [
    "data.shape"
   ]
  },
  {
   "cell_type": "code",
   "execution_count": 31,
   "metadata": {
    "scrolled": true
   },
   "outputs": [
    {
     "data": {
      "text/html": [
       "<div>\n",
       "<style scoped>\n",
       "    .dataframe tbody tr th:only-of-type {\n",
       "        vertical-align: middle;\n",
       "    }\n",
       "\n",
       "    .dataframe tbody tr th {\n",
       "        vertical-align: top;\n",
       "    }\n",
       "\n",
       "    .dataframe thead th {\n",
       "        text-align: right;\n",
       "    }\n",
       "</style>\n",
       "<table border=\"1\" class=\"dataframe\">\n",
       "  <thead>\n",
       "    <tr style=\"text-align: right;\">\n",
       "      <th></th>\n",
       "      <th>count</th>\n",
       "      <th>mean</th>\n",
       "      <th>std</th>\n",
       "      <th>min</th>\n",
       "      <th>25%</th>\n",
       "      <th>50%</th>\n",
       "      <th>75%</th>\n",
       "      <th>max</th>\n",
       "    </tr>\n",
       "  </thead>\n",
       "  <tbody>\n",
       "    <tr>\n",
       "      <td>Year</td>\n",
       "      <td>6855024.0</td>\n",
       "      <td>2008.000000</td>\n",
       "      <td>0.000000</td>\n",
       "      <td>2008.0</td>\n",
       "      <td>2008.0</td>\n",
       "      <td>2008.0</td>\n",
       "      <td>2008.0</td>\n",
       "      <td>2008.0</td>\n",
       "    </tr>\n",
       "    <tr>\n",
       "      <td>Month</td>\n",
       "      <td>6855024.0</td>\n",
       "      <td>6.388525</td>\n",
       "      <td>3.398833</td>\n",
       "      <td>1.0</td>\n",
       "      <td>3.0</td>\n",
       "      <td>6.0</td>\n",
       "      <td>9.0</td>\n",
       "      <td>12.0</td>\n",
       "    </tr>\n",
       "    <tr>\n",
       "      <td>DayofMonth</td>\n",
       "      <td>6855024.0</td>\n",
       "      <td>15.738256</td>\n",
       "      <td>8.801085</td>\n",
       "      <td>1.0</td>\n",
       "      <td>8.0</td>\n",
       "      <td>16.0</td>\n",
       "      <td>23.0</td>\n",
       "      <td>31.0</td>\n",
       "    </tr>\n",
       "    <tr>\n",
       "      <td>DayOfWeek</td>\n",
       "      <td>6855024.0</td>\n",
       "      <td>3.925802</td>\n",
       "      <td>1.988459</td>\n",
       "      <td>1.0</td>\n",
       "      <td>2.0</td>\n",
       "      <td>4.0</td>\n",
       "      <td>6.0</td>\n",
       "      <td>7.0</td>\n",
       "    </tr>\n",
       "    <tr>\n",
       "      <td>DepTime</td>\n",
       "      <td>6855024.0</td>\n",
       "      <td>1333.775377</td>\n",
       "      <td>478.057428</td>\n",
       "      <td>1.0</td>\n",
       "      <td>928.0</td>\n",
       "      <td>1325.0</td>\n",
       "      <td>1728.0</td>\n",
       "      <td>2400.0</td>\n",
       "    </tr>\n",
       "    <tr>\n",
       "      <td>CRSDepTime</td>\n",
       "      <td>6855024.0</td>\n",
       "      <td>1325.037351</td>\n",
       "      <td>464.313019</td>\n",
       "      <td>0.0</td>\n",
       "      <td>925.0</td>\n",
       "      <td>1317.0</td>\n",
       "      <td>1715.0</td>\n",
       "      <td>2359.0</td>\n",
       "    </tr>\n",
       "    <tr>\n",
       "      <td>ArrTime</td>\n",
       "      <td>6855024.0</td>\n",
       "      <td>1481.265468</td>\n",
       "      <td>505.132240</td>\n",
       "      <td>1.0</td>\n",
       "      <td>1107.0</td>\n",
       "      <td>1512.0</td>\n",
       "      <td>1909.0</td>\n",
       "      <td>2400.0</td>\n",
       "    </tr>\n",
       "    <tr>\n",
       "      <td>CRSArrTime</td>\n",
       "      <td>6855024.0</td>\n",
       "      <td>1493.714769</td>\n",
       "      <td>482.664252</td>\n",
       "      <td>0.0</td>\n",
       "      <td>1115.0</td>\n",
       "      <td>1515.0</td>\n",
       "      <td>1905.0</td>\n",
       "      <td>2359.0</td>\n",
       "    </tr>\n",
       "    <tr>\n",
       "      <td>FlightNum</td>\n",
       "      <td>6855024.0</td>\n",
       "      <td>2212.505007</td>\n",
       "      <td>1956.435438</td>\n",
       "      <td>1.0</td>\n",
       "      <td>618.0</td>\n",
       "      <td>1563.0</td>\n",
       "      <td>3494.0</td>\n",
       "      <td>9741.0</td>\n",
       "    </tr>\n",
       "    <tr>\n",
       "      <td>ActualElapsedTime</td>\n",
       "      <td>6855024.0</td>\n",
       "      <td>127.322441</td>\n",
       "      <td>70.187326</td>\n",
       "      <td>12.0</td>\n",
       "      <td>77.0</td>\n",
       "      <td>110.0</td>\n",
       "      <td>157.0</td>\n",
       "      <td>1379.0</td>\n",
       "    </tr>\n",
       "    <tr>\n",
       "      <td>CRSElapsedTime</td>\n",
       "      <td>6855024.0</td>\n",
       "      <td>129.077839</td>\n",
       "      <td>69.532729</td>\n",
       "      <td>-141.0</td>\n",
       "      <td>80.0</td>\n",
       "      <td>111.0</td>\n",
       "      <td>159.0</td>\n",
       "      <td>660.0</td>\n",
       "    </tr>\n",
       "    <tr>\n",
       "      <td>AirTime</td>\n",
       "      <td>6855024.0</td>\n",
       "      <td>104.018613</td>\n",
       "      <td>67.439811</td>\n",
       "      <td>0.0</td>\n",
       "      <td>55.0</td>\n",
       "      <td>86.0</td>\n",
       "      <td>132.0</td>\n",
       "      <td>1350.0</td>\n",
       "    </tr>\n",
       "    <tr>\n",
       "      <td>ArrDelay</td>\n",
       "      <td>6855024.0</td>\n",
       "      <td>8.168407</td>\n",
       "      <td>38.501794</td>\n",
       "      <td>-519.0</td>\n",
       "      <td>-10.0</td>\n",
       "      <td>-2.0</td>\n",
       "      <td>12.0</td>\n",
       "      <td>2461.0</td>\n",
       "    </tr>\n",
       "    <tr>\n",
       "      <td>DepDelay</td>\n",
       "      <td>6855024.0</td>\n",
       "      <td>9.923807</td>\n",
       "      <td>35.203729</td>\n",
       "      <td>-534.0</td>\n",
       "      <td>-4.0</td>\n",
       "      <td>-1.0</td>\n",
       "      <td>8.0</td>\n",
       "      <td>2467.0</td>\n",
       "    </tr>\n",
       "    <tr>\n",
       "      <td>Distance</td>\n",
       "      <td>6855024.0</td>\n",
       "      <td>728.744072</td>\n",
       "      <td>563.244853</td>\n",
       "      <td>11.0</td>\n",
       "      <td>326.0</td>\n",
       "      <td>581.0</td>\n",
       "      <td>954.0</td>\n",
       "      <td>4962.0</td>\n",
       "    </tr>\n",
       "    <tr>\n",
       "      <td>TaxiIn</td>\n",
       "      <td>6855024.0</td>\n",
       "      <td>6.860150</td>\n",
       "      <td>4.931225</td>\n",
       "      <td>0.0</td>\n",
       "      <td>4.0</td>\n",
       "      <td>6.0</td>\n",
       "      <td>8.0</td>\n",
       "      <td>308.0</td>\n",
       "    </tr>\n",
       "    <tr>\n",
       "      <td>TaxiOut</td>\n",
       "      <td>6855024.0</td>\n",
       "      <td>16.443678</td>\n",
       "      <td>11.310619</td>\n",
       "      <td>0.0</td>\n",
       "      <td>10.0</td>\n",
       "      <td>14.0</td>\n",
       "      <td>19.0</td>\n",
       "      <td>429.0</td>\n",
       "    </tr>\n",
       "    <tr>\n",
       "      <td>Cancelled</td>\n",
       "      <td>6855024.0</td>\n",
       "      <td>0.000000</td>\n",
       "      <td>0.000000</td>\n",
       "      <td>0.0</td>\n",
       "      <td>0.0</td>\n",
       "      <td>0.0</td>\n",
       "      <td>0.0</td>\n",
       "      <td>0.0</td>\n",
       "    </tr>\n",
       "    <tr>\n",
       "      <td>Diverted</td>\n",
       "      <td>6855024.0</td>\n",
       "      <td>0.000000</td>\n",
       "      <td>0.000000</td>\n",
       "      <td>0.0</td>\n",
       "      <td>0.0</td>\n",
       "      <td>0.0</td>\n",
       "      <td>0.0</td>\n",
       "      <td>0.0</td>\n",
       "    </tr>\n",
       "    <tr>\n",
       "      <td>other_delay</td>\n",
       "      <td>6855024.0</td>\n",
       "      <td>5.211614</td>\n",
       "      <td>70.618907</td>\n",
       "      <td>-4898.0</td>\n",
       "      <td>6.0</td>\n",
       "      <td>25.0</td>\n",
       "      <td>35.0</td>\n",
       "      <td>1078.0</td>\n",
       "    </tr>\n",
       "  </tbody>\n",
       "</table>\n",
       "</div>"
      ],
      "text/plain": [
       "                       count         mean          std     min     25%  \\\n",
       "Year               6855024.0  2008.000000     0.000000  2008.0  2008.0   \n",
       "Month              6855024.0     6.388525     3.398833     1.0     3.0   \n",
       "DayofMonth         6855024.0    15.738256     8.801085     1.0     8.0   \n",
       "DayOfWeek          6855024.0     3.925802     1.988459     1.0     2.0   \n",
       "DepTime            6855024.0  1333.775377   478.057428     1.0   928.0   \n",
       "CRSDepTime         6855024.0  1325.037351   464.313019     0.0   925.0   \n",
       "ArrTime            6855024.0  1481.265468   505.132240     1.0  1107.0   \n",
       "CRSArrTime         6855024.0  1493.714769   482.664252     0.0  1115.0   \n",
       "FlightNum          6855024.0  2212.505007  1956.435438     1.0   618.0   \n",
       "ActualElapsedTime  6855024.0   127.322441    70.187326    12.0    77.0   \n",
       "CRSElapsedTime     6855024.0   129.077839    69.532729  -141.0    80.0   \n",
       "AirTime            6855024.0   104.018613    67.439811     0.0    55.0   \n",
       "ArrDelay           6855024.0     8.168407    38.501794  -519.0   -10.0   \n",
       "DepDelay           6855024.0     9.923807    35.203729  -534.0    -4.0   \n",
       "Distance           6855024.0   728.744072   563.244853    11.0   326.0   \n",
       "TaxiIn             6855024.0     6.860150     4.931225     0.0     4.0   \n",
       "TaxiOut            6855024.0    16.443678    11.310619     0.0    10.0   \n",
       "Cancelled          6855024.0     0.000000     0.000000     0.0     0.0   \n",
       "Diverted           6855024.0     0.000000     0.000000     0.0     0.0   \n",
       "other_delay        6855024.0     5.211614    70.618907 -4898.0     6.0   \n",
       "\n",
       "                      50%     75%     max  \n",
       "Year               2008.0  2008.0  2008.0  \n",
       "Month                 6.0     9.0    12.0  \n",
       "DayofMonth           16.0    23.0    31.0  \n",
       "DayOfWeek             4.0     6.0     7.0  \n",
       "DepTime            1325.0  1728.0  2400.0  \n",
       "CRSDepTime         1317.0  1715.0  2359.0  \n",
       "ArrTime            1512.0  1909.0  2400.0  \n",
       "CRSArrTime         1515.0  1905.0  2359.0  \n",
       "FlightNum          1563.0  3494.0  9741.0  \n",
       "ActualElapsedTime   110.0   157.0  1379.0  \n",
       "CRSElapsedTime      111.0   159.0   660.0  \n",
       "AirTime              86.0   132.0  1350.0  \n",
       "ArrDelay             -2.0    12.0  2461.0  \n",
       "DepDelay             -1.0     8.0  2467.0  \n",
       "Distance            581.0   954.0  4962.0  \n",
       "TaxiIn                6.0     8.0   308.0  \n",
       "TaxiOut              14.0    19.0   429.0  \n",
       "Cancelled             0.0     0.0     0.0  \n",
       "Diverted              0.0     0.0     0.0  \n",
       "other_delay          25.0    35.0  1078.0  "
      ]
     },
     "execution_count": 31,
     "metadata": {},
     "output_type": "execute_result"
    }
   ],
   "source": [
    "data.describe().transpose()"
   ]
  },
  {
   "cell_type": "markdown",
   "metadata": {},
   "source": [
    "#### Cancelled\t& Diverted\t are 0 -> drop them"
   ]
  },
  {
   "cell_type": "code",
   "execution_count": 39,
   "metadata": {},
   "outputs": [
    {
     "ename": "KeyError",
     "evalue": "\"['Year' 'Cancelled' 'Diverted'] not found in axis\"",
     "output_type": "error",
     "traceback": [
      "\u001b[1;31m---------------------------------------------------------------------------\u001b[0m",
      "\u001b[1;31mKeyError\u001b[0m                                  Traceback (most recent call last)",
      "\u001b[1;32m<ipython-input-39-5578974f2ec7>\u001b[0m in \u001b[0;36m<module>\u001b[1;34m\u001b[0m\n\u001b[1;32m----> 1\u001b[1;33m \u001b[0mdata\u001b[0m \u001b[1;33m=\u001b[0m \u001b[0mdata\u001b[0m\u001b[1;33m.\u001b[0m\u001b[0mdrop\u001b[0m\u001b[1;33m(\u001b[0m\u001b[1;33m[\u001b[0m\u001b[1;34m'Year'\u001b[0m\u001b[1;33m,\u001b[0m\u001b[1;34m'Cancelled'\u001b[0m\u001b[1;33m,\u001b[0m\u001b[1;34m'Diverted'\u001b[0m\u001b[1;33m]\u001b[0m\u001b[1;33m,\u001b[0m \u001b[0maxis\u001b[0m\u001b[1;33m=\u001b[0m\u001b[1;36m1\u001b[0m\u001b[1;33m)\u001b[0m\u001b[1;33m\u001b[0m\u001b[1;33m\u001b[0m\u001b[0m\n\u001b[0m",
      "\u001b[1;32mc:\\python\\python37\\lib\\site-packages\\pandas\\core\\frame.py\u001b[0m in \u001b[0;36mdrop\u001b[1;34m(self, labels, axis, index, columns, level, inplace, errors)\u001b[0m\n\u001b[0;32m   4100\u001b[0m             \u001b[0mlevel\u001b[0m\u001b[1;33m=\u001b[0m\u001b[0mlevel\u001b[0m\u001b[1;33m,\u001b[0m\u001b[1;33m\u001b[0m\u001b[1;33m\u001b[0m\u001b[0m\n\u001b[0;32m   4101\u001b[0m             \u001b[0minplace\u001b[0m\u001b[1;33m=\u001b[0m\u001b[0minplace\u001b[0m\u001b[1;33m,\u001b[0m\u001b[1;33m\u001b[0m\u001b[1;33m\u001b[0m\u001b[0m\n\u001b[1;32m-> 4102\u001b[1;33m             \u001b[0merrors\u001b[0m\u001b[1;33m=\u001b[0m\u001b[0merrors\u001b[0m\u001b[1;33m,\u001b[0m\u001b[1;33m\u001b[0m\u001b[1;33m\u001b[0m\u001b[0m\n\u001b[0m\u001b[0;32m   4103\u001b[0m         )\n\u001b[0;32m   4104\u001b[0m \u001b[1;33m\u001b[0m\u001b[0m\n",
      "\u001b[1;32mc:\\python\\python37\\lib\\site-packages\\pandas\\core\\generic.py\u001b[0m in \u001b[0;36mdrop\u001b[1;34m(self, labels, axis, index, columns, level, inplace, errors)\u001b[0m\n\u001b[0;32m   3912\u001b[0m         \u001b[1;32mfor\u001b[0m \u001b[0maxis\u001b[0m\u001b[1;33m,\u001b[0m \u001b[0mlabels\u001b[0m \u001b[1;32min\u001b[0m \u001b[0maxes\u001b[0m\u001b[1;33m.\u001b[0m\u001b[0mitems\u001b[0m\u001b[1;33m(\u001b[0m\u001b[1;33m)\u001b[0m\u001b[1;33m:\u001b[0m\u001b[1;33m\u001b[0m\u001b[1;33m\u001b[0m\u001b[0m\n\u001b[0;32m   3913\u001b[0m             \u001b[1;32mif\u001b[0m \u001b[0mlabels\u001b[0m \u001b[1;32mis\u001b[0m \u001b[1;32mnot\u001b[0m \u001b[1;32mNone\u001b[0m\u001b[1;33m:\u001b[0m\u001b[1;33m\u001b[0m\u001b[1;33m\u001b[0m\u001b[0m\n\u001b[1;32m-> 3914\u001b[1;33m                 \u001b[0mobj\u001b[0m \u001b[1;33m=\u001b[0m \u001b[0mobj\u001b[0m\u001b[1;33m.\u001b[0m\u001b[0m_drop_axis\u001b[0m\u001b[1;33m(\u001b[0m\u001b[0mlabels\u001b[0m\u001b[1;33m,\u001b[0m \u001b[0maxis\u001b[0m\u001b[1;33m,\u001b[0m \u001b[0mlevel\u001b[0m\u001b[1;33m=\u001b[0m\u001b[0mlevel\u001b[0m\u001b[1;33m,\u001b[0m \u001b[0merrors\u001b[0m\u001b[1;33m=\u001b[0m\u001b[0merrors\u001b[0m\u001b[1;33m)\u001b[0m\u001b[1;33m\u001b[0m\u001b[1;33m\u001b[0m\u001b[0m\n\u001b[0m\u001b[0;32m   3915\u001b[0m \u001b[1;33m\u001b[0m\u001b[0m\n\u001b[0;32m   3916\u001b[0m         \u001b[1;32mif\u001b[0m \u001b[0minplace\u001b[0m\u001b[1;33m:\u001b[0m\u001b[1;33m\u001b[0m\u001b[1;33m\u001b[0m\u001b[0m\n",
      "\u001b[1;32mc:\\python\\python37\\lib\\site-packages\\pandas\\core\\generic.py\u001b[0m in \u001b[0;36m_drop_axis\u001b[1;34m(self, labels, axis, level, errors)\u001b[0m\n\u001b[0;32m   3944\u001b[0m                 \u001b[0mnew_axis\u001b[0m \u001b[1;33m=\u001b[0m \u001b[0maxis\u001b[0m\u001b[1;33m.\u001b[0m\u001b[0mdrop\u001b[0m\u001b[1;33m(\u001b[0m\u001b[0mlabels\u001b[0m\u001b[1;33m,\u001b[0m \u001b[0mlevel\u001b[0m\u001b[1;33m=\u001b[0m\u001b[0mlevel\u001b[0m\u001b[1;33m,\u001b[0m \u001b[0merrors\u001b[0m\u001b[1;33m=\u001b[0m\u001b[0merrors\u001b[0m\u001b[1;33m)\u001b[0m\u001b[1;33m\u001b[0m\u001b[1;33m\u001b[0m\u001b[0m\n\u001b[0;32m   3945\u001b[0m             \u001b[1;32melse\u001b[0m\u001b[1;33m:\u001b[0m\u001b[1;33m\u001b[0m\u001b[1;33m\u001b[0m\u001b[0m\n\u001b[1;32m-> 3946\u001b[1;33m                 \u001b[0mnew_axis\u001b[0m \u001b[1;33m=\u001b[0m \u001b[0maxis\u001b[0m\u001b[1;33m.\u001b[0m\u001b[0mdrop\u001b[0m\u001b[1;33m(\u001b[0m\u001b[0mlabels\u001b[0m\u001b[1;33m,\u001b[0m \u001b[0merrors\u001b[0m\u001b[1;33m=\u001b[0m\u001b[0merrors\u001b[0m\u001b[1;33m)\u001b[0m\u001b[1;33m\u001b[0m\u001b[1;33m\u001b[0m\u001b[0m\n\u001b[0m\u001b[0;32m   3947\u001b[0m             \u001b[0mresult\u001b[0m \u001b[1;33m=\u001b[0m \u001b[0mself\u001b[0m\u001b[1;33m.\u001b[0m\u001b[0mreindex\u001b[0m\u001b[1;33m(\u001b[0m\u001b[1;33m**\u001b[0m\u001b[1;33m{\u001b[0m\u001b[0maxis_name\u001b[0m\u001b[1;33m:\u001b[0m \u001b[0mnew_axis\u001b[0m\u001b[1;33m}\u001b[0m\u001b[1;33m)\u001b[0m\u001b[1;33m\u001b[0m\u001b[1;33m\u001b[0m\u001b[0m\n\u001b[0;32m   3948\u001b[0m \u001b[1;33m\u001b[0m\u001b[0m\n",
      "\u001b[1;32mc:\\python\\python37\\lib\\site-packages\\pandas\\core\\indexes\\base.py\u001b[0m in \u001b[0;36mdrop\u001b[1;34m(self, labels, errors)\u001b[0m\n\u001b[0;32m   5338\u001b[0m         \u001b[1;32mif\u001b[0m \u001b[0mmask\u001b[0m\u001b[1;33m.\u001b[0m\u001b[0many\u001b[0m\u001b[1;33m(\u001b[0m\u001b[1;33m)\u001b[0m\u001b[1;33m:\u001b[0m\u001b[1;33m\u001b[0m\u001b[1;33m\u001b[0m\u001b[0m\n\u001b[0;32m   5339\u001b[0m             \u001b[1;32mif\u001b[0m \u001b[0merrors\u001b[0m \u001b[1;33m!=\u001b[0m \u001b[1;34m\"ignore\"\u001b[0m\u001b[1;33m:\u001b[0m\u001b[1;33m\u001b[0m\u001b[1;33m\u001b[0m\u001b[0m\n\u001b[1;32m-> 5340\u001b[1;33m                 \u001b[1;32mraise\u001b[0m \u001b[0mKeyError\u001b[0m\u001b[1;33m(\u001b[0m\u001b[1;34m\"{} not found in axis\"\u001b[0m\u001b[1;33m.\u001b[0m\u001b[0mformat\u001b[0m\u001b[1;33m(\u001b[0m\u001b[0mlabels\u001b[0m\u001b[1;33m[\u001b[0m\u001b[0mmask\u001b[0m\u001b[1;33m]\u001b[0m\u001b[1;33m)\u001b[0m\u001b[1;33m)\u001b[0m\u001b[1;33m\u001b[0m\u001b[1;33m\u001b[0m\u001b[0m\n\u001b[0m\u001b[0;32m   5341\u001b[0m             \u001b[0mindexer\u001b[0m \u001b[1;33m=\u001b[0m \u001b[0mindexer\u001b[0m\u001b[1;33m[\u001b[0m\u001b[1;33m~\u001b[0m\u001b[0mmask\u001b[0m\u001b[1;33m]\u001b[0m\u001b[1;33m\u001b[0m\u001b[1;33m\u001b[0m\u001b[0m\n\u001b[0;32m   5342\u001b[0m         \u001b[1;32mreturn\u001b[0m \u001b[0mself\u001b[0m\u001b[1;33m.\u001b[0m\u001b[0mdelete\u001b[0m\u001b[1;33m(\u001b[0m\u001b[0mindexer\u001b[0m\u001b[1;33m)\u001b[0m\u001b[1;33m\u001b[0m\u001b[1;33m\u001b[0m\u001b[0m\n",
      "\u001b[1;31mKeyError\u001b[0m: \"['Year' 'Cancelled' 'Diverted'] not found in axis\""
     ]
    }
   ],
   "source": [
    "data = data.drop(['Year','Cancelled','Diverted'], axis=1)\n"
   ]
  },
  {
   "cell_type": "markdown",
   "metadata": {},
   "source": [
    "### 1.4 Data exploration\n",
    "\n",
    "### CORRELATION"
   ]
  },
  {
   "cell_type": "code",
   "execution_count": 40,
   "metadata": {},
   "outputs": [
    {
     "data": {
      "text/plain": [
       "Text(0.5, 1, 'Variable Correlation')"
      ]
     },
     "execution_count": 40,
     "metadata": {},
     "output_type": "execute_result"
    },
    {
     "data": {
      "image/png": "[encoded data removed]",
      "text/plain": [
       "<Figure size 864x576 with 2 Axes>"
      ]
     },
     "metadata": {
      "needs_background": "light"
     },
     "output_type": "display_data"
    }
   ],
   "source": [
    "plt.figure(figsize=(12,8))\n",
    "sns.heatmap(data.corr(),cmap = 'coolwarm',linewidth = 1,annot= True, annot_kws={\"size\": 9})\n",
    "plt.title('Variable Correlation')"
   ]
  },
  {
   "cell_type": "markdown",
   "metadata": {},
   "source": [
    " DepTime & CRSDepTime   , ArrTime & CRSArrTime have high correlation score we should drop one of them \n",
    " \n",
    " "
   ]
  },
  {
   "cell_type": "code",
   "execution_count": 33,
   "metadata": {},
   "outputs": [],
   "source": [
    "# Instead We create a DEPARTURE_DELAY  and ARRIVAL_DELAY \n",
    "# data['DEPARTURE_DELAY'] = data['DepTime'] - data['CRSDepTime']\n",
    "# data['ARRIVAL_DELAY'] = data['ArrTime'] - data['CRSArrTime']"
   ]
  },
  {
   "cell_type": "code",
   "execution_count": 34,
   "metadata": {},
   "outputs": [],
   "source": [
    "# Drop DepTime & ArrTime\n",
    "data = data.drop(['DepTime','ArrTime'], axis=1)\n"
   ]
  },
  {
   "cell_type": "code",
   "execution_count": 41,
   "metadata": {},
   "outputs": [],
   "source": [
    "# AirTime & Distance\n",
    "#Drop AirTime\n",
    "data = data.drop(['AirTime'], axis=1)"
   ]
  },
  {
   "cell_type": "markdown",
   "metadata": {},
   "source": [
    "#### ActualElapsedTime\tCRSElapsedTime have high correlation score we should drop one of them\n",
    "#### Instead We create a Flight_DELAY lable 'isDelayed' = CRSElapsedTime -  ActualElapsedTime\t \n",
    "####                                                                Delay ( >  30 mins ) : 1\n",
    "####                                                                Not delay    :0\n",
    "#### Then drop CRSElapsedTime & ActualElapsedTime"
   ]
  },
  {
   "cell_type": "code",
   "execution_count": 59,
   "metadata": {},
   "outputs": [],
   "source": [
    "data['isDelayed'] = (data['CRSElapsedTime'] - data['ActualElapsedTime'])"
   ]
  },
  {
   "cell_type": "code",
   "execution_count": 60,
   "metadata": {},
   "outputs": [],
   "source": [
    "data['isDelayed'] = data['isDelayed'].apply(lambda x: 1 if x > 30 else 0)"
   ]
  },
  {
   "cell_type": "code",
   "execution_count": 61,
   "metadata": {},
   "outputs": [
    {
     "data": {
      "text/plain": [
       "count    6.855024e+06\n",
       "mean     7.869265e-03\n",
       "std      8.835916e-02\n",
       "min      0.000000e+00\n",
       "25%      0.000000e+00\n",
       "50%      0.000000e+00\n",
       "75%      0.000000e+00\n",
       "max      1.000000e+00\n",
       "Name: isDelayed, dtype: float64"
      ]
     },
     "execution_count": 61,
     "metadata": {},
     "output_type": "execute_result"
    }
   ],
   "source": [
    "\n",
    "data['isDelayed'].describe()"
   ]
  },
  {
   "cell_type": "code",
   "execution_count": 63,
   "metadata": {},
   "outputs": [],
   "source": [
    "data = data.drop(['CRSElapsedTime', 'ActualElapsedTime'], axis=1)"
   ]
  },
  {
   "cell_type": "markdown",
   "metadata": {},
   "source": [
    "### TaxiIn & TaxiOut seems that doesn't affect to the flight so that we remove them"
   ]
  },
  {
   "cell_type": "code",
   "execution_count": 64,
   "metadata": {},
   "outputs": [],
   "source": [
    "data = data.drop(['TaxiIn', 'TaxiOut'], axis=1)"
   ]
  },
  {
   "cell_type": "markdown",
   "metadata": {},
   "source": [
    "### CRSDepTime is varied  from 0000 - 2400  so that we group them to DepTime_lb every 2 hour them drop CRSDepTime & DepTime"
   ]
  },
  {
   "cell_type": "code",
   "execution_count": 94,
   "metadata": {},
   "outputs": [],
   "source": [
    "data['DepTime_lb'] = data['CRSDepTime'];\n",
    "data['DepTime_lb']=np.where( (data['DepTime_lb'] >= 0) & ( data['DepTime_lb'] <= 200 ) , 2, data['DepTime_lb'] )\n",
    "data['DepTime_lb']=np.where( (data['DepTime_lb'] > 200) & ( data['DepTime_lb'] <= 400 ) , 4, data['DepTime_lb'] )\n",
    "data['DepTime_lb']=np.where( (data['DepTime_lb'] > 400) & ( data['DepTime_lb'] <= 600 ) , 6, data['DepTime_lb'] )\n",
    "data['DepTime_lb']=np.where( (data['DepTime_lb'] > 600) & ( data['DepTime_lb'] <= 800 ) , 8, data['DepTime_lb'] )\n",
    "data['DepTime_lb']=np.where( (data['DepTime_lb'] > 800) & ( data['DepTime_lb'] <= 1000 ) , 10, data['DepTime_lb'] )\n",
    "data['DepTime_lb']=np.where( (data['DepTime_lb'] > 1000) & ( data['DepTime_lb'] <= 1200 ) , 12, data['DepTime_lb'] )\n",
    "data['DepTime_lb']=np.where( (data['DepTime_lb'] > 1200) & ( data['DepTime_lb'] <= 1400 ) , 14, data['DepTime_lb'] )\n",
    "data['DepTime_lb']=np.where( (data['DepTime_lb'] > 1400) & ( data['DepTime_lb'] <= 1600 ) , 16, data['DepTime_lb'] )\n",
    "data['DepTime_lb']=np.where( (data['DepTime_lb'] > 1600) & ( data['DepTime_lb'] <= 1800 ) , 18, data['DepTime_lb'] )\n",
    "data['DepTime_lb']=np.where( (data['DepTime_lb'] > 1800) & ( data['DepTime_lb'] <= 2000 ) , 20, data['DepTime_lb'] )\n",
    "data['DepTime_lb']=np.where( (data['DepTime_lb'] > 2000) & ( data['DepTime_lb'] <= 2200 ) , 22, data['DepTime_lb'] )\n",
    "data['DepTime_lb']=np.where( (data['DepTime_lb'] > 2200) & ( data['DepTime_lb'] <= 2400 ) , 24, data['DepTime_lb'] )\n",
    "\n",
    "data['DepTime_lb'] = data['DepTime_lb'] .astype('object') \n",
    "\n",
    "data['DepTime_lb']=np.where( (data['DepTime_lb'] == 2) , '0_2', data['DepTime_lb'] )\n",
    "data['DepTime_lb']=np.where( (data['DepTime_lb'] == 4) , '2_4', data['DepTime_lb'] )\n",
    "data['DepTime_lb']=np.where( (data['DepTime_lb'] == 6) , '4_6', data['DepTime_lb'] )\n",
    "data['DepTime_lb']=np.where( (data['DepTime_lb'] == 8) , '6_8', data['DepTime_lb'] )\n",
    "data['DepTime_lb']=np.where( (data['DepTime_lb'] == 10) , '8_10', data['DepTime_lb'] )\n",
    "data['DepTime_lb']=np.where( (data['DepTime_lb'] == 12) , '10_12', data['DepTime_lb'] )\n",
    "data['DepTime_lb']=np.where( (data['DepTime_lb'] == 14) , '12_14', data['DepTime_lb'] )\n",
    "data['DepTime_lb']=np.where( (data['DepTime_lb'] == 16) , '14_16', data['DepTime_lb'] )\n",
    "data['DepTime_lb']=np.where( (data['DepTime_lb'] == 18) , '16_18', data['DepTime_lb'] )\n",
    "data['DepTime_lb']=np.where( (data['DepTime_lb'] == 20) , '18_20', data['DepTime_lb'] )\n",
    "data['DepTime_lb']=np.where( (data['DepTime_lb'] == 22) , '20_22', data['DepTime_lb'] )\n",
    "data['DepTime_lb']=np.where( (data['DepTime_lb'] == 24) , '22_24', data['DepTime_lb'] )"
   ]
  },
  {
   "cell_type": "code",
   "execution_count": 95,
   "metadata": {},
   "outputs": [
    {
     "data": {
      "text/plain": [
       "array(['18_20', '6_8', '8_10', '16_18', '10_12', '14_16', '12_14',\n",
       "       '20_22', '4_6', '22_24', '0_2', '2_4'], dtype=object)"
      ]
     },
     "execution_count": 95,
     "metadata": {},
     "output_type": "execute_result"
    }
   ],
   "source": [
    "data['DepTime_lb'].unique()\n"
   ]
  },
  {
   "cell_type": "code",
   "execution_count": 98,
   "metadata": {},
   "outputs": [],
   "source": [
    "data = data.drop(['CRSDepTime'], axis=1)"
   ]
  },
  {
   "cell_type": "code",
   "execution_count": 99,
   "metadata": {},
   "outputs": [
    {
     "data": {
      "text/plain": [
       "Index(['Month', 'DayofMonth', 'DayOfWeek', 'CRSArrTime', 'UniqueCarrier',\n",
       "       'FlightNum', 'TailNum', 'ArrDelay', 'DepDelay', 'Origin', 'Dest',\n",
       "       'Distance', 'other_delay', 'y', 'isDelayed', 'DepTime_lb'],\n",
       "      dtype='object')"
      ]
     },
     "execution_count": 99,
     "metadata": {},
     "output_type": "execute_result"
    }
   ],
   "source": [
    "data.columns"
   ]
  },
  {
   "cell_type": "markdown",
   "metadata": {},
   "source": [
    "### Convert CRSArrTime  label like DepTime_lb does"
   ]
  },
  {
   "cell_type": "code",
   "execution_count": 100,
   "metadata": {},
   "outputs": [],
   "source": [
    "\n",
    "data['CRSArrTime']=np.where( (data['CRSArrTime'] >= 0) & ( data['CRSArrTime'] <= 200 ) , 2, data['CRSArrTime'] )\n",
    "data['CRSArrTime']=np.where( (data['CRSArrTime'] > 200) & ( data['CRSArrTime'] <= 400 ) , 4, data['CRSArrTime'] )\n",
    "data['CRSArrTime']=np.where( (data['CRSArrTime'] > 400) & ( data['CRSArrTime'] <= 600 ) , 6, data['CRSArrTime'] )\n",
    "data['CRSArrTime']=np.where( (data['CRSArrTime'] > 600) & ( data['CRSArrTime'] <= 800 ) , 8, data['CRSArrTime'] )\n",
    "data['CRSArrTime']=np.where( (data['CRSArrTime'] > 800) & ( data['CRSArrTime'] <= 1000 ) , 10, data['CRSArrTime'] )\n",
    "data['CRSArrTime']=np.where( (data['CRSArrTime'] > 1000) & ( data['CRSArrTime'] <= 1200 ) , 12, data['CRSArrTime'] )\n",
    "data['CRSArrTime']=np.where( (data['CRSArrTime'] > 1200) & ( data['CRSArrTime'] <= 1400 ) , 14, data['CRSArrTime'] )\n",
    "data['CRSArrTime']=np.where( (data['CRSArrTime'] > 1400) & ( data['CRSArrTime'] <= 1600 ) , 16, data['CRSArrTime'] )\n",
    "data['CRSArrTime']=np.where( (data['CRSArrTime'] > 1600) & ( data['CRSArrTime'] <= 1800 ) , 18, data['CRSArrTime'] )\n",
    "data['CRSArrTime']=np.where( (data['CRSArrTime'] > 1800) & ( data['CRSArrTime'] <= 2000 ) , 20, data['CRSArrTime'] )\n",
    "data['CRSArrTime']=np.where( (data['CRSArrTime'] > 2000) & ( data['CRSArrTime'] <= 2200 ) , 22, data['CRSArrTime'] )\n",
    "data['CRSArrTime']=np.where( (data['CRSArrTime'] > 2200) & ( data['CRSArrTime'] <= 2400 ) , 24, data['CRSArrTime'] )\n",
    "\n",
    "data['CRSArrTime'] = data['CRSArrTime'] .astype('object') \n",
    "\n",
    "data['CRSArrTime']=np.where( (data['CRSArrTime'] == 2) , '0_2', data['CRSArrTime'] )\n",
    "data['CRSArrTime']=np.where( (data['CRSArrTime'] == 4) , '2_4', data['CRSArrTime'] )\n",
    "data['CRSArrTime']=np.where( (data['CRSArrTime'] == 6) , '4_6', data['CRSArrTime'] )\n",
    "data['CRSArrTime']=np.where( (data['CRSArrTime'] == 8) , '6_8', data['CRSArrTime'] )\n",
    "data['CRSArrTime']=np.where( (data['CRSArrTime'] == 10) , '8_10', data['CRSArrTime'] )\n",
    "data['CRSArrTime']=np.where( (data['CRSArrTime'] == 12) , '10_12', data['CRSArrTime'] )\n",
    "data['CRSArrTime']=np.where( (data['CRSArrTime'] == 14) , '12_14', data['CRSArrTime'] )\n",
    "data['CRSArrTime']=np.where( (data['CRSArrTime'] == 16) , '14_16', data['CRSArrTime'] )\n",
    "data['CRSArrTime']=np.where( (data['CRSArrTime'] == 18) , '16_18', data['CRSArrTime'] )\n",
    "data['CRSArrTime']=np.where( (data['CRSArrTime'] == 20) , '18_20', data['CRSArrTime'] )\n",
    "data['CRSArrTime']=np.where( (data['CRSArrTime'] == 22) , '20_22', data['CRSArrTime'] )\n",
    "data['CRSArrTime']=np.where( (data['CRSArrTime'] == 24) , '22_24', data['CRSArrTime'] )"
   ]
  },
  {
   "cell_type": "code",
   "execution_count": 101,
   "metadata": {},
   "outputs": [
    {
     "data": {
      "text/plain": [
       "array(['22_24', '8_10', '6_8', '10_12', '18_20', '20_22', '16_18',\n",
       "       '14_16', '12_14', '0_2', '4_6', '2_4'], dtype=object)"
      ]
     },
     "execution_count": 101,
     "metadata": {},
     "output_type": "execute_result"
    }
   ],
   "source": [
    "data['CRSArrTime'].unique()\n"
   ]
  },
  {
   "cell_type": "markdown",
   "metadata": {},
   "source": [
    "## Numeric Features\n"
   ]
  },
  {
   "cell_type": "code",
   "execution_count": 102,
   "metadata": {},
   "outputs": [
    {
     "data": {
      "text/plain": [
       "Index(['Month', 'DayofMonth', 'DayOfWeek', 'FlightNum', 'ArrDelay', 'DepDelay',\n",
       "       'Distance', 'other_delay', 'y', 'isDelayed'],\n",
       "      dtype='object')"
      ]
     },
     "execution_count": 102,
     "metadata": {},
     "output_type": "execute_result"
    }
   ],
   "source": [
    "data.select_dtypes(['float64','int64']).columns"
   ]
  },
  {
   "cell_type": "code",
   "execution_count": 103,
   "metadata": {},
   "outputs": [
    {
     "data": {
      "text/plain": [
       "array([[<matplotlib.axes._subplots.AxesSubplot object at 0x000001ACC5F1EA08>,\n",
       "        <matplotlib.axes._subplots.AxesSubplot object at 0x000001ACC71292C8>,\n",
       "        <matplotlib.axes._subplots.AxesSubplot object at 0x000001AE61B1F048>],\n",
       "       [<matplotlib.axes._subplots.AxesSubplot object at 0x000001ACC76E4D88>,\n",
       "        <matplotlib.axes._subplots.AxesSubplot object at 0x000001ACC771BB08>,\n",
       "        <matplotlib.axes._subplots.AxesSubplot object at 0x000001ACC7752888>],\n",
       "       [<matplotlib.axes._subplots.AxesSubplot object at 0x000001ACC7788608>,\n",
       "        <matplotlib.axes._subplots.AxesSubplot object at 0x000001ACC77BF388>,\n",
       "        <matplotlib.axes._subplots.AxesSubplot object at 0x000001ACC77C7208>],\n",
       "       [<matplotlib.axes._subplots.AxesSubplot object at 0x000001ACC7800188>,\n",
       "        <matplotlib.axes._subplots.AxesSubplot object at 0x000001ACC78635C8>,\n",
       "        <matplotlib.axes._subplots.AxesSubplot object at 0x000001ACC789C7C8>]],\n",
       "      dtype=object)"
      ]
     },
     "execution_count": 103,
     "metadata": {},
     "output_type": "execute_result"
    },
    {
     "data": {
      "image/png": "[encoded data removed]",
      "text/plain": [
       "<Figure size 432x288 with 12 Axes>"
      ]
     },
     "metadata": {
      "needs_background": "light"
     },
     "output_type": "display_data"
    }
   ],
   "source": [
    "sns.set_style('darkgrid')\n",
    "f, axes = plt.subplots(4,2, figsize = (20,30))\n",
    "\n",
    "# Plot [0,0]\n",
    "axes[0,0].scatter(x = 'Rooms', y = 'Price', data = data, edgecolor = 'b')\n",
    "axes[0,0].set_xlabel('Rooms')\n",
    "axes[0,0].set_ylabel('Price')\n",
    "axes[0,0].set_title('Rooms v Price')\n",
    "\n",
    "# Plot [0,1]\n",
    "axes[0,1].scatter(x = 'Distance', y = 'Price', data = data, edgecolor = 'b')\n",
    "axes[0,1].set_xlabel('Distance')\n",
    "# axes[0,1].set_ylabel('Price')\n",
    "axes[0,1].set_title('Distance v Price')\n",
    "\n",
    "# Plot [1,0]\n",
    "axes[1,0].scatter(x = 'Bathroom', y = 'Price', data = data, edgecolor = 'b')\n",
    "axes[1,0].set_xlabel('Bathroom')\n",
    "axes[1,0].set_ylabel('Price')\n",
    "axes[1,0].set_title('Bathroom v Price')\n",
    "\n",
    "# Plot [1,1]\n",
    "axes[1,1].scatter(x = 'Car', y = 'Price', data = data, edgecolor = 'b')\n",
    "axes[1,0].set_xlabel('Car')\n",
    "axes[1,1].set_ylabel('Price')\n",
    "axes[1,1].set_title('Car v Price')\n",
    "\n",
    "# Plot [2,0]\n",
    "axes[2,0].scatter(x = 'Landsize', y = 'Price', data = data, edgecolor = 'b')\n",
    "axes[2,0].set_xlabel('Landsize')\n",
    "axes[2,0].set_ylabel('Price')\n",
    "axes[2,0].set_title('Landsize v  Price')\n",
    "\n",
    "# Plot [2,1]\n",
    "axes[2,1].scatter(x = 'BuildingArea', y = 'Price', data = data, edgecolor = 'b')\n",
    "axes[2,1].set_xlabel('BuildingArea')\n",
    "axes[2,1].set_ylabel('BuildingArea')\n",
    "axes[2,1].set_title('BuildingArea v Price')\n",
    "\n",
    "# Plot [3,0]\n",
    "axes[3,0].scatter(x = 'Age', y = 'Price', data = data, edgecolor = 'b')\n",
    "axes[3,0].set_xlabel('Age')\n",
    "axes[3,0].set_ylabel('Price')\n",
    "axes[3,0].set_ylabel('Age v Price')\n",
    "\n",
    "# Plot [3,1]\n",
    "axes[3,1].scatter(x = 'Propertycount', y = 'Price', data = data, edgecolor = 'b')\n",
    "axes[3,1].set_xlabel('Propertycount')\n",
    "#axes[3,1].set_ylabel('Price')\n",
    "axes[3,1].set_title('Property Count v Price')\n",
    "\n",
    "plt.show()"
   ]
  }
 ],
 "metadata": {
  "kernelspec": {
   "display_name": "Python 3",
   "language": "python",
   "name": "python3"
  },
  "language_info": {
   "codemirror_mode": {
    "name": "ipython",
    "version": 3
   },
   "file_extension": ".py",
   "mimetype": "text/x-python",
   "name": "python",
   "nbconvert_exporter": "python",
   "pygments_lexer": "ipython3",
   "version": "3.7.4"
  }
 },
 "nbformat": 4,
 "nbformat_minor": 2
}
