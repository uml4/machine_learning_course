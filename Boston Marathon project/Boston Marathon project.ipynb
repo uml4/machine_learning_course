{
 "cells": [
  {
   "cell_type": "markdown",
   "metadata": {},
   "source": [
    "# Boston Marathon project\n",
    "\n",
    "There is a lot of information on ​runners and their performance for the Boston Marathon​. Pick a year (post-2012 has more info) and do some clustering. Specifically, use the tools at hand to determine which clustering solution, including number of clusters and algorithm used, is best for the marathon data. \n",
    "\n",
    "Once you have a solution you like, write a data story, including visualizations, where you teach the reader something about the Boston Marathon based on your clusters. Write up your report, including your process from start to finish. You must include analysis as: \n",
    "\n",
    "1. Draw bar graphs (both male & female in different color) for each cluster for male and female, from the bar graphs, you can tell things as which cluster contains the most number of female (or male).\n",
    "\n",
    "2. Draw bar graphs for runners in different ranges of age (dividing by 3 groups: 18-25, 26-40, 40-70 or so) for each cluster (in different colors), from the graph, you should be able to anwser which cluster contains the most young people, which cluster contains oldest people, etc. \n",
    "\n",
    "3. Do the same things as above for finishing time (which group runs fastest). .\n",
    "\n",
    "\n",
    "## 1. Data Exploration\n",
    "## 2. Data pre-processing\n",
    "## 3. Apply model\n",
    "## 4. Analyse the clusters"
   ]
  },
  {
   "cell_type": "markdown",
   "metadata": {},
   "source": [
    "## 1. Data Exploration\n",
    "### 1.1 Importing Various Modules"
   ]
  },
  {
   "cell_type": "code",
   "execution_count": 128,
   "metadata": {},
   "outputs": [],
   "source": [
    "import pandas as pd\n",
    "import matplotlib.pyplot as plt\n",
    "import seaborn as sns # for plotting graphs\n",
    "%matplotlib inline\n",
    "import numpy as np\n",
    "import sklearn\n",
    "import time\n",
    "# Import model\n",
    "from sklearn.model_selection import train_test_split\n",
    "from sklearn import metrics\n",
    "from sklearn.metrics import r2_score\n",
    "from sklearn.model_selection import KFold\n",
    "from sklearn.model_selection import cross_val_score, cross_val_predict\n",
    "from sklearn.preprocessing import StandardScaler\n",
    "from sklearn.decomposition import PCA\n",
    "from sklearn.cluster import KMeans\n",
    "from sklearn.metrics import  silhouette_score"
   ]
  },
  {
   "cell_type": "markdown",
   "metadata": {},
   "source": [
    "### 1.2 Reading the data from a CSV file"
   ]
  },
  {
   "cell_type": "code",
   "execution_count": 4,
   "metadata": {},
   "outputs": [
    {
     "data": {
      "text/html": [
       "<div>\n",
       "<style scoped>\n",
       "    .dataframe tbody tr th:only-of-type {\n",
       "        vertical-align: middle;\n",
       "    }\n",
       "\n",
       "    .dataframe tbody tr th {\n",
       "        vertical-align: top;\n",
       "    }\n",
       "\n",
       "    .dataframe thead th {\n",
       "        text-align: right;\n",
       "    }\n",
       "</style>\n",
       "<table border=\"1\" class=\"dataframe\">\n",
       "  <thead>\n",
       "    <tr style=\"text-align: right;\">\n",
       "      <th></th>\n",
       "      <th>10k</th>\n",
       "      <th>name</th>\n",
       "      <th>division</th>\n",
       "      <th>25k</th>\n",
       "      <th>gender</th>\n",
       "      <th>age</th>\n",
       "      <th>official</th>\n",
       "      <th>bib</th>\n",
       "      <th>genderdiv</th>\n",
       "      <th>ctz</th>\n",
       "      <th>35k</th>\n",
       "      <th>overall</th>\n",
       "      <th>pace</th>\n",
       "      <th>state</th>\n",
       "      <th>30k</th>\n",
       "      <th>5k</th>\n",
       "      <th>half</th>\n",
       "      <th>20k</th>\n",
       "      <th>country</th>\n",
       "      <th>city</th>\n",
       "      <th>40k</th>\n",
       "    </tr>\n",
       "  </thead>\n",
       "  <tbody>\n",
       "    <tr>\n",
       "      <td>0</td>\n",
       "      <td>17.37</td>\n",
       "      <td>Yamamoto, Hiroyuki</td>\n",
       "      <td>8</td>\n",
       "      <td>47.67</td>\n",
       "      <td>M</td>\n",
       "      <td>47</td>\n",
       "      <td>85.25</td>\n",
       "      <td>W1</td>\n",
       "      <td>8</td>\n",
       "      <td>NaN</td>\n",
       "      <td>71.40</td>\n",
       "      <td>8</td>\n",
       "      <td>3.27</td>\n",
       "      <td>NaN</td>\n",
       "      <td>59.18</td>\n",
       "      <td>8.02</td>\n",
       "      <td>39.72</td>\n",
       "      <td>37.65</td>\n",
       "      <td>JPN</td>\n",
       "      <td>Fukuoka</td>\n",
       "      <td>80.43</td>\n",
       "    </tr>\n",
       "    <tr>\n",
       "      <td>1</td>\n",
       "      <td>32.58</td>\n",
       "      <td>Jeptoo, Rita</td>\n",
       "      <td>1</td>\n",
       "      <td>82.43</td>\n",
       "      <td>F</td>\n",
       "      <td>33</td>\n",
       "      <td>138.95</td>\n",
       "      <td>F1</td>\n",
       "      <td>1</td>\n",
       "      <td>NaN</td>\n",
       "      <td>116.37</td>\n",
       "      <td>21</td>\n",
       "      <td>5.30</td>\n",
       "      <td>NaN</td>\n",
       "      <td>99.33</td>\n",
       "      <td>16.22</td>\n",
       "      <td>69.47</td>\n",
       "      <td>65.83</td>\n",
       "      <td>KEN</td>\n",
       "      <td>Eldoret</td>\n",
       "      <td>132.10</td>\n",
       "    </tr>\n",
       "    <tr>\n",
       "      <td>2</td>\n",
       "      <td>16.62</td>\n",
       "      <td>Van Dyk, Ernst F.</td>\n",
       "      <td>1</td>\n",
       "      <td>45.80</td>\n",
       "      <td>M</td>\n",
       "      <td>41</td>\n",
       "      <td>80.60</td>\n",
       "      <td>W2</td>\n",
       "      <td>1</td>\n",
       "      <td>NaN</td>\n",
       "      <td>67.42</td>\n",
       "      <td>1</td>\n",
       "      <td>3.08</td>\n",
       "      <td>NaN</td>\n",
       "      <td>56.45</td>\n",
       "      <td>7.75</td>\n",
       "      <td>38.03</td>\n",
       "      <td>36.10</td>\n",
       "      <td>RSA</td>\n",
       "      <td>Paarl</td>\n",
       "      <td>76.10</td>\n",
       "    </tr>\n",
       "    <tr>\n",
       "      <td>3</td>\n",
       "      <td>32.57</td>\n",
       "      <td>Dibaba, Mare</td>\n",
       "      <td>3</td>\n",
       "      <td>82.43</td>\n",
       "      <td>F</td>\n",
       "      <td>24</td>\n",
       "      <td>140.58</td>\n",
       "      <td>F2</td>\n",
       "      <td>3</td>\n",
       "      <td>NaN</td>\n",
       "      <td>116.37</td>\n",
       "      <td>27</td>\n",
       "      <td>5.37</td>\n",
       "      <td>NaN</td>\n",
       "      <td>99.33</td>\n",
       "      <td>16.20</td>\n",
       "      <td>69.47</td>\n",
       "      <td>65.83</td>\n",
       "      <td>ETH</td>\n",
       "      <td>Shoa</td>\n",
       "      <td>132.95</td>\n",
       "    </tr>\n",
       "    <tr>\n",
       "      <td>4</td>\n",
       "      <td>17.12</td>\n",
       "      <td>Hokinoue, Kota</td>\n",
       "      <td>2</td>\n",
       "      <td>46.37</td>\n",
       "      <td>M</td>\n",
       "      <td>40</td>\n",
       "      <td>81.23</td>\n",
       "      <td>W3</td>\n",
       "      <td>2</td>\n",
       "      <td>NaN</td>\n",
       "      <td>67.83</td>\n",
       "      <td>2</td>\n",
       "      <td>3.10</td>\n",
       "      <td>NaN</td>\n",
       "      <td>57.03</td>\n",
       "      <td>8.02</td>\n",
       "      <td>38.60</td>\n",
       "      <td>36.58</td>\n",
       "      <td>JPN</td>\n",
       "      <td>Nogata Fukuoka</td>\n",
       "      <td>76.72</td>\n",
       "    </tr>\n",
       "  </tbody>\n",
       "</table>\n",
       "</div>"
      ],
      "text/plain": [
       "     10k                name  division    25k gender  age  official bib  \\\n",
       "0  17.37  Yamamoto, Hiroyuki         8  47.67      M   47     85.25  W1   \n",
       "1  32.58        Jeptoo, Rita         1  82.43      F   33    138.95  F1   \n",
       "2  16.62   Van Dyk, Ernst F.         1  45.80      M   41     80.60  W2   \n",
       "3  32.57        Dibaba, Mare         3  82.43      F   24    140.58  F2   \n",
       "4  17.12      Hokinoue, Kota         2  46.37      M   40     81.23  W3   \n",
       "\n",
       "   genderdiv  ctz     35k  overall  pace state    30k     5k   half    20k  \\\n",
       "0          8  NaN   71.40        8  3.27   NaN  59.18   8.02  39.72  37.65   \n",
       "1          1  NaN  116.37       21  5.30   NaN  99.33  16.22  69.47  65.83   \n",
       "2          1  NaN   67.42        1  3.08   NaN  56.45   7.75  38.03  36.10   \n",
       "3          3  NaN  116.37       27  5.37   NaN  99.33  16.20  69.47  65.83   \n",
       "4          2  NaN   67.83        2  3.10   NaN  57.03   8.02  38.60  36.58   \n",
       "\n",
       "  country            city     40k  \n",
       "0     JPN         Fukuoka   80.43  \n",
       "1     KEN         Eldoret  132.10  \n",
       "2     RSA           Paarl   76.10  \n",
       "3     ETH            Shoa  132.95  \n",
       "4     JPN  Nogata Fukuoka   76.72  "
      ]
     },
     "execution_count": 4,
     "metadata": {},
     "output_type": "execute_result"
    }
   ],
   "source": [
    "pd.set_option('display.max_columns', None)\n",
    "data = pd.read_csv(\"results.csv\")\n",
    "data.head()"
   ]
  },
  {
   "cell_type": "markdown",
   "metadata": {},
   "source": [
    "    **Bib Assigned race number based on qualifying time. \"F\" could appear for female elites.\n",
    "\n",
    "    **NameName of runner (Last, First)\n",
    "\n",
    "    **AgeAge on race day\n",
    "\n",
    "    **M/FRunner's gender\n",
    "\n",
    "    **5KRunner's time at 5k\n",
    "\n",
    "    **10KRunner's time at 10k\n",
    "\n",
    "    **15KRunner's time at 15k\n",
    "\n",
    "    **20KRunner's time at 20k\n",
    "\n",
    "    **HalfRunner's time at halfway point\n",
    "\n",
    "    **25KRunner's time at 25k\n",
    "\n",
    "    **30KRunner's time at 30k\n",
    "\n",
    "    **35KRunner's time at 35k\n",
    "\n",
    "    **40KRunner's time at 40k\n",
    "\n",
    "    **PaceRunner's overall minute per mile pace\n",
    "\n",
    "    **Proj TimeRunner's projected time during the race (empty)\n",
    "\n",
    "    **Official TimeRunner's official finishing time\n",
    "\n",
    "    **OverallRunner's overall raking\n",
    "\n",
    "    **GenderRunner's ranking in their gender\n",
    "\n",
    "    **DivisionRunner's ranking in their age division"
   ]
  },
  {
   "cell_type": "code",
   "execution_count": 5,
   "metadata": {},
   "outputs": [
    {
     "data": {
      "text/plain": [
       "(31984, 21)"
      ]
     },
     "execution_count": 5,
     "metadata": {},
     "output_type": "execute_result"
    }
   ],
   "source": [
    "data.shape"
   ]
  },
  {
   "cell_type": "code",
   "execution_count": 6,
   "metadata": {},
   "outputs": [
    {
     "name": "stdout",
     "output_type": "stream",
     "text": [
      "<class 'pandas.core.frame.DataFrame'>\n",
      "RangeIndex: 31984 entries, 0 to 31983\n",
      "Data columns (total 21 columns):\n",
      "10k          31984 non-null object\n",
      "name         31984 non-null object\n",
      "division     31984 non-null int64\n",
      "25k          31984 non-null object\n",
      "gender       31984 non-null object\n",
      "age          31984 non-null int64\n",
      "official     31984 non-null float64\n",
      "bib          31984 non-null object\n",
      "genderdiv    31984 non-null int64\n",
      "ctz          1244 non-null object\n",
      "35k          31984 non-null object\n",
      "overall      31984 non-null int64\n",
      "pace         31984 non-null float64\n",
      "state        29408 non-null object\n",
      "30k          31984 non-null object\n",
      "5k           31984 non-null object\n",
      "half         31984 non-null object\n",
      "20k          31984 non-null object\n",
      "country      31984 non-null object\n",
      "city         31983 non-null object\n",
      "40k          31984 non-null object\n",
      "dtypes: float64(2), int64(4), object(15)\n",
      "memory usage: 5.1+ MB\n"
     ]
    }
   ],
   "source": [
    "data.info()"
   ]
  },
  {
   "cell_type": "code",
   "execution_count": 7,
   "metadata": {},
   "outputs": [
    {
     "name": "stdout",
     "output_type": "stream",
     "text": [
      "10k          float64\n",
      "name          object\n",
      "division       int64\n",
      "25k          float64\n",
      "gender        object\n",
      "age          float64\n",
      "official     float64\n",
      "bib           object\n",
      "genderdiv      int64\n",
      "ctz           object\n",
      "35k          float64\n",
      "overall      float64\n",
      "pace         float64\n",
      "state         object\n",
      "30k          float64\n",
      "5k           float64\n",
      "half         float64\n",
      "20k          float64\n",
      "country       object\n",
      "city          object\n",
      "40k          float64\n",
      "dtype: object\n"
     ]
    }
   ],
   "source": [
    "# Convert these columns to numeric\n",
    "numeric = ['10k','25k','age','official','35k','overall','pace','30k','5k','half','20k','40k']\n",
    "data[numeric] = data[numeric].apply(pd.to_numeric, errors = 'coerce', axis=1)\n",
    "print(data.dtypes)"
   ]
  },
  {
   "cell_type": "markdown",
   "metadata": {},
   "source": [
    "### 1.3 Check missing values"
   ]
  },
  {
   "cell_type": "code",
   "execution_count": 8,
   "metadata": {},
   "outputs": [
    {
     "data": {
      "text/plain": [
       "10k           0.156328\n",
       "name          0.000000\n",
       "division      0.000000\n",
       "25k           0.675338\n",
       "gender        0.000000\n",
       "age           0.000000\n",
       "official      0.000000\n",
       "bib           0.000000\n",
       "genderdiv     0.000000\n",
       "ctz          96.110555\n",
       "35k           0.106303\n",
       "overall       0.000000\n",
       "pace          0.000000\n",
       "state         8.054027\n",
       "30k           0.125063\n",
       "5k            0.162581\n",
       "half          0.225113\n",
       "20k           0.159455\n",
       "country       0.000000\n",
       "city          0.003127\n",
       "40k           0.121936\n",
       "dtype: float64"
      ]
     },
     "execution_count": 8,
     "metadata": {},
     "output_type": "execute_result"
    }
   ],
   "source": [
    "# Percentage of missing values\n",
    "data.isnull().sum()/len(data)*100"
   ]
  },
  {
   "cell_type": "markdown",
   "metadata": {},
   "source": [
    "**ctz  missing value  are over 90%  -> drop this column\n",
    "** The other missing value is around 1% -> small amount -> removed these row data"
   ]
  },
  {
   "cell_type": "code",
   "execution_count": 9,
   "metadata": {},
   "outputs": [],
   "source": [
    "data = data.drop(['ctz'], axis=1)\n",
    "data = data.dropna()"
   ]
  },
  {
   "cell_type": "markdown",
   "metadata": {},
   "source": [
    "## 2. Data pre-processing"
   ]
  },
  {
   "cell_type": "code",
   "execution_count": 10,
   "metadata": {},
   "outputs": [
    {
     "data": {
      "text/plain": [
       "Index(['name', 'gender', 'bib', 'state', 'country', 'city'], dtype='object')"
      ]
     },
     "execution_count": 10,
     "metadata": {},
     "output_type": "execute_result"
    }
   ],
   "source": [
    "data.select_dtypes(['object']).columns"
   ]
  },
  {
   "cell_type": "markdown",
   "metadata": {},
   "source": [
    "### country , city  & state         "
   ]
  },
  {
   "cell_type": "code",
   "execution_count": 11,
   "metadata": {},
   "outputs": [
    {
     "data": {
      "text/plain": [
       "array(['USA', 'CAN'], dtype=object)"
      ]
     },
     "execution_count": 11,
     "metadata": {},
     "output_type": "execute_result"
    }
   ],
   "source": [
    "data['country'].unique()"
   ]
  },
  {
   "cell_type": "code",
   "execution_count": 12,
   "metadata": {},
   "outputs": [
    {
     "data": {
      "text/plain": [
       "USA    26939\n",
       "CAN     2164\n",
       "Name: country, dtype: int64"
      ]
     },
     "execution_count": 12,
     "metadata": {},
     "output_type": "execute_result"
    }
   ],
   "source": [
    "data['country'].value_counts()"
   ]
  },
  {
   "cell_type": "markdown",
   "metadata": {},
   "source": [
    "> After  remove ctz , we just have USA & CAN and most of them is USA. Since the people of  USA and CAN are look like together physically  -> this feature this feature is not have much value for the model , i will remove it"
   ]
  },
  {
   "cell_type": "code",
   "execution_count": 13,
   "metadata": {},
   "outputs": [
    {
     "data": {
      "text/plain": [
       "Boston           1018\n",
       "New York          497\n",
       "Chicago           312\n",
       "Cambridge         303\n",
       "Somerville        239\n",
       "                 ... \n",
       "Medford Lakes       1\n",
       "Sleepy Eye          1\n",
       "Toccoa              1\n",
       "Tahoma              1\n",
       "Hubley              1\n",
       "Name: city, Length: 4648, dtype: int64"
      ]
     },
     "execution_count": 13,
     "metadata": {},
     "output_type": "execute_result"
    }
   ],
   "source": [
    "data['city'].value_counts()"
   ]
  },
  {
   "cell_type": "markdown",
   "metadata": {},
   "source": [
    "> We have more than 4668 cities -> too many for oneHotEncoding -> remove this columns as well"
   ]
  },
  {
   "cell_type": "code",
   "execution_count": 14,
   "metadata": {},
   "outputs": [
    {
     "data": {
      "text/plain": [
       "MA    7427\n",
       "CA    2302\n",
       "NY    1537\n",
       "ON    1045\n",
       "PA     997\n",
       "      ... \n",
       "YT       5\n",
       "NT       3\n",
       "GU       1\n",
       "AA       1\n",
       "AP       1\n",
       "Name: state, Length: 68, dtype: int64"
      ]
     },
     "execution_count": 14,
     "metadata": {},
     "output_type": "execute_result"
    }
   ],
   "source": [
    "data['state'].value_counts()"
   ]
  },
  {
   "cell_type": "markdown",
   "metadata": {},
   "source": [
    "> the state is the same cities, this value doesn't  effect to the marathon result"
   ]
  },
  {
   "cell_type": "code",
   "execution_count": 15,
   "metadata": {},
   "outputs": [],
   "source": [
    "data = data.drop(['city','country','state'], axis=1)"
   ]
  },
  {
   "cell_type": "markdown",
   "metadata": {},
   "source": [
    "### name    \n",
    "> Seems it is the unique for each row and there is no meaning for calculating, so that i will remove this columns "
   ]
  },
  {
   "cell_type": "code",
   "execution_count": 16,
   "metadata": {},
   "outputs": [],
   "source": [
    "data = data.drop(['name'], axis=1)"
   ]
  },
  {
   "cell_type": "markdown",
   "metadata": {},
   "source": [
    "### bib    "
   ]
  },
  {
   "cell_type": "code",
   "execution_count": 17,
   "metadata": {},
   "outputs": [
    {
     "data": {
      "text/plain": [
       "array(['6', 'W8', 'F8', ..., '35910', '35911', '35912'], dtype=object)"
      ]
     },
     "execution_count": 17,
     "metadata": {},
     "output_type": "execute_result"
    }
   ],
   "source": [
    "data['bib'].unique()"
   ]
  },
  {
   "cell_type": "markdown",
   "metadata": {},
   "source": [
    "> I dont know what it is , and this column is mixed between String and number -> I will remove it"
   ]
  },
  {
   "cell_type": "code",
   "execution_count": 18,
   "metadata": {},
   "outputs": [],
   "source": [
    "data = data.drop(['bib'], axis=1)"
   ]
  },
  {
   "cell_type": "markdown",
   "metadata": {},
   "source": [
    "### gender\n",
    "\n",
    "Gender should be a key factor for the marathon result \n"
   ]
  },
  {
   "cell_type": "code",
   "execution_count": 19,
   "metadata": {},
   "outputs": [
    {
     "data": {
      "text/plain": [
       "M    15578\n",
       "F    13525\n",
       "Name: gender, dtype: int64"
      ]
     },
     "execution_count": 19,
     "metadata": {},
     "output_type": "execute_result"
    }
   ],
   "source": [
    "data['gender'].value_counts()"
   ]
  },
  {
   "cell_type": "code",
   "execution_count": 71,
   "metadata": {},
   "outputs": [
    {
     "data": {
      "text/plain": [
       "<matplotlib.axes._subplots.AxesSubplot at 0x1cfc5094dc8>"
      ]
     },
     "execution_count": 71,
     "metadata": {},
     "output_type": "execute_result"
    },
    {
     "data": {
      "image/png": "[encoded data removed]",
      "text/plain": [
       "<Figure size 432x288 with 1 Axes>"
      ]
     },
     "metadata": {},
     "output_type": "display_data"
    }
   ],
   "source": [
    "data['gender'].value_counts().plot.pie( autopct='%1.0f%%',\n",
    "                                shadow=False, startangle=0, colors  = ['red', 'pink'])"
   ]
  },
  {
   "cell_type": "markdown",
   "metadata": {},
   "source": [
    "There are 15691 Men and 13717 Female. The inequality of male and female is not really high\n",
    "\n",
    "I will use LabelEncoding for this column"
   ]
  },
  {
   "cell_type": "code",
   "execution_count": 20,
   "metadata": {},
   "outputs": [],
   "source": [
    "data['gender_enc'] = data['gender']\n",
    "data['gender_enc'] = data['gender_enc'].str.replace('M','0')\n",
    "data['gender_enc'] = data['gender_enc'].str.replace('F','1')\n",
    "data['gender_enc'] = pd.to_numeric(data['gender_enc'], errors='coerce')"
   ]
  },
  {
   "cell_type": "code",
   "execution_count": 72,
   "metadata": {},
   "outputs": [],
   "source": [
    "# data['gender_enc'].value_counts()"
   ]
  },
  {
   "cell_type": "code",
   "execution_count": 22,
   "metadata": {},
   "outputs": [],
   "source": [
    "data = data.drop(['gender'], axis=1)"
   ]
  },
  {
   "cell_type": "markdown",
   "metadata": {},
   "source": [
    "### numeric"
   ]
  },
  {
   "cell_type": "code",
   "execution_count": 23,
   "metadata": {},
   "outputs": [
    {
     "data": {
      "text/plain": [
       "Index(['10k', 'division', '25k', 'age', 'official', 'genderdiv', '35k',\n",
       "       'overall', 'pace', '30k', '5k', 'half', '20k', '40k', 'gender_enc'],\n",
       "      dtype='object')"
      ]
     },
     "execution_count": 23,
     "metadata": {},
     "output_type": "execute_result"
    }
   ],
   "source": [
    "data.select_dtypes(['int64', 'float64']).columns"
   ]
  },
  {
   "cell_type": "code",
   "execution_count": 24,
   "metadata": {
    "scrolled": true
   },
   "outputs": [
    {
     "data": {
      "text/html": [
       "<div>\n",
       "<style scoped>\n",
       "    .dataframe tbody tr th:only-of-type {\n",
       "        vertical-align: middle;\n",
       "    }\n",
       "\n",
       "    .dataframe tbody tr th {\n",
       "        vertical-align: top;\n",
       "    }\n",
       "\n",
       "    .dataframe thead th {\n",
       "        text-align: right;\n",
       "    }\n",
       "</style>\n",
       "<table border=\"1\" class=\"dataframe\">\n",
       "  <thead>\n",
       "    <tr style=\"text-align: right;\">\n",
       "      <th></th>\n",
       "      <th>count</th>\n",
       "      <th>mean</th>\n",
       "      <th>std</th>\n",
       "      <th>min</th>\n",
       "      <th>25%</th>\n",
       "      <th>50%</th>\n",
       "      <th>75%</th>\n",
       "      <th>max</th>\n",
       "    </tr>\n",
       "  </thead>\n",
       "  <tbody>\n",
       "    <tr>\n",
       "      <td>10k</td>\n",
       "      <td>29103.0</td>\n",
       "      <td>51.827082</td>\n",
       "      <td>8.704309</td>\n",
       "      <td>17.12</td>\n",
       "      <td>45.580</td>\n",
       "      <td>50.43</td>\n",
       "      <td>57.200</td>\n",
       "      <td>112.38</td>\n",
       "    </tr>\n",
       "    <tr>\n",
       "      <td>division</td>\n",
       "      <td>29103.0</td>\n",
       "      <td>1966.941037</td>\n",
       "      <td>1732.202728</td>\n",
       "      <td>1.00</td>\n",
       "      <td>623.500</td>\n",
       "      <td>1445.00</td>\n",
       "      <td>2703.500</td>\n",
       "      <td>6979.00</td>\n",
       "    </tr>\n",
       "    <tr>\n",
       "      <td>25k</td>\n",
       "      <td>29103.0</td>\n",
       "      <td>134.107068</td>\n",
       "      <td>25.627832</td>\n",
       "      <td>48.55</td>\n",
       "      <td>115.920</td>\n",
       "      <td>129.23</td>\n",
       "      <td>148.430</td>\n",
       "      <td>289.02</td>\n",
       "    </tr>\n",
       "    <tr>\n",
       "      <td>age</td>\n",
       "      <td>29103.0</td>\n",
       "      <td>42.054256</td>\n",
       "      <td>11.348288</td>\n",
       "      <td>18.00</td>\n",
       "      <td>33.000</td>\n",
       "      <td>42.00</td>\n",
       "      <td>50.000</td>\n",
       "      <td>81.00</td>\n",
       "    </tr>\n",
       "    <tr>\n",
       "      <td>official</td>\n",
       "      <td>29103.0</td>\n",
       "      <td>242.813434</td>\n",
       "      <td>50.921669</td>\n",
       "      <td>84.82</td>\n",
       "      <td>205.980</td>\n",
       "      <td>232.57</td>\n",
       "      <td>273.310</td>\n",
       "      <td>538.88</td>\n",
       "    </tr>\n",
       "    <tr>\n",
       "      <td>genderdiv</td>\n",
       "      <td>29103.0</td>\n",
       "      <td>8008.425935</td>\n",
       "      <td>4733.455790</td>\n",
       "      <td>1.00</td>\n",
       "      <td>3954.500</td>\n",
       "      <td>7923.00</td>\n",
       "      <td>11908.500</td>\n",
       "      <td>17575.00</td>\n",
       "    </tr>\n",
       "    <tr>\n",
       "      <td>35k</td>\n",
       "      <td>29103.0</td>\n",
       "      <td>196.771704</td>\n",
       "      <td>40.869530</td>\n",
       "      <td>70.83</td>\n",
       "      <td>167.550</td>\n",
       "      <td>188.40</td>\n",
       "      <td>220.270</td>\n",
       "      <td>449.33</td>\n",
       "    </tr>\n",
       "    <tr>\n",
       "      <td>overall</td>\n",
       "      <td>29103.0</td>\n",
       "      <td>15980.928942</td>\n",
       "      <td>9169.893647</td>\n",
       "      <td>1.00</td>\n",
       "      <td>8074.500</td>\n",
       "      <td>15997.00</td>\n",
       "      <td>23946.000</td>\n",
       "      <td>31931.00</td>\n",
       "    </tr>\n",
       "    <tr>\n",
       "      <td>pace</td>\n",
       "      <td>29103.0</td>\n",
       "      <td>9.269305</td>\n",
       "      <td>1.942165</td>\n",
       "      <td>3.25</td>\n",
       "      <td>7.870</td>\n",
       "      <td>8.88</td>\n",
       "      <td>10.430</td>\n",
       "      <td>20.57</td>\n",
       "    </tr>\n",
       "    <tr>\n",
       "      <td>30k</td>\n",
       "      <td>29103.0</td>\n",
       "      <td>164.525433</td>\n",
       "      <td>32.965134</td>\n",
       "      <td>59.77</td>\n",
       "      <td>141.075</td>\n",
       "      <td>157.98</td>\n",
       "      <td>183.125</td>\n",
       "      <td>376.38</td>\n",
       "    </tr>\n",
       "    <tr>\n",
       "      <td>5k</td>\n",
       "      <td>29103.0</td>\n",
       "      <td>25.779254</td>\n",
       "      <td>4.207013</td>\n",
       "      <td>8.02</td>\n",
       "      <td>22.730</td>\n",
       "      <td>25.15</td>\n",
       "      <td>28.500</td>\n",
       "      <td>86.95</td>\n",
       "    </tr>\n",
       "    <tr>\n",
       "      <td>half</td>\n",
       "      <td>29103.0</td>\n",
       "      <td>111.639899</td>\n",
       "      <td>20.333671</td>\n",
       "      <td>40.20</td>\n",
       "      <td>97.180</td>\n",
       "      <td>108.02</td>\n",
       "      <td>123.200</td>\n",
       "      <td>236.67</td>\n",
       "    </tr>\n",
       "    <tr>\n",
       "      <td>20k</td>\n",
       "      <td>29103.0</td>\n",
       "      <td>105.728655</td>\n",
       "      <td>19.186131</td>\n",
       "      <td>38.02</td>\n",
       "      <td>92.070</td>\n",
       "      <td>102.35</td>\n",
       "      <td>116.650</td>\n",
       "      <td>224.35</td>\n",
       "    </tr>\n",
       "    <tr>\n",
       "      <td>40k</td>\n",
       "      <td>29103.0</td>\n",
       "      <td>229.037616</td>\n",
       "      <td>48.164805</td>\n",
       "      <td>80.18</td>\n",
       "      <td>194.280</td>\n",
       "      <td>219.12</td>\n",
       "      <td>257.780</td>\n",
       "      <td>508.35</td>\n",
       "    </tr>\n",
       "    <tr>\n",
       "      <td>gender_enc</td>\n",
       "      <td>29103.0</td>\n",
       "      <td>0.464729</td>\n",
       "      <td>0.498763</td>\n",
       "      <td>0.00</td>\n",
       "      <td>0.000</td>\n",
       "      <td>0.00</td>\n",
       "      <td>1.000</td>\n",
       "      <td>1.00</td>\n",
       "    </tr>\n",
       "  </tbody>\n",
       "</table>\n",
       "</div>"
      ],
      "text/plain": [
       "              count          mean          std    min       25%       50%  \\\n",
       "10k         29103.0     51.827082     8.704309  17.12    45.580     50.43   \n",
       "division    29103.0   1966.941037  1732.202728   1.00   623.500   1445.00   \n",
       "25k         29103.0    134.107068    25.627832  48.55   115.920    129.23   \n",
       "age         29103.0     42.054256    11.348288  18.00    33.000     42.00   \n",
       "official    29103.0    242.813434    50.921669  84.82   205.980    232.57   \n",
       "genderdiv   29103.0   8008.425935  4733.455790   1.00  3954.500   7923.00   \n",
       "35k         29103.0    196.771704    40.869530  70.83   167.550    188.40   \n",
       "overall     29103.0  15980.928942  9169.893647   1.00  8074.500  15997.00   \n",
       "pace        29103.0      9.269305     1.942165   3.25     7.870      8.88   \n",
       "30k         29103.0    164.525433    32.965134  59.77   141.075    157.98   \n",
       "5k          29103.0     25.779254     4.207013   8.02    22.730     25.15   \n",
       "half        29103.0    111.639899    20.333671  40.20    97.180    108.02   \n",
       "20k         29103.0    105.728655    19.186131  38.02    92.070    102.35   \n",
       "40k         29103.0    229.037616    48.164805  80.18   194.280    219.12   \n",
       "gender_enc  29103.0      0.464729     0.498763   0.00     0.000      0.00   \n",
       "\n",
       "                  75%       max  \n",
       "10k            57.200    112.38  \n",
       "division     2703.500   6979.00  \n",
       "25k           148.430    289.02  \n",
       "age            50.000     81.00  \n",
       "official      273.310    538.88  \n",
       "genderdiv   11908.500  17575.00  \n",
       "35k           220.270    449.33  \n",
       "overall     23946.000  31931.00  \n",
       "pace           10.430     20.57  \n",
       "30k           183.125    376.38  \n",
       "5k             28.500     86.95  \n",
       "half          123.200    236.67  \n",
       "20k           116.650    224.35  \n",
       "40k           257.780    508.35  \n",
       "gender_enc      1.000      1.00  "
      ]
     },
     "execution_count": 24,
     "metadata": {},
     "output_type": "execute_result"
    }
   ],
   "source": [
    "data.describe().transpose()"
   ]
  },
  {
   "cell_type": "markdown",
   "metadata": {},
   "source": [
    "### Finishers by age"
   ]
  },
  {
   "cell_type": "code",
   "execution_count": 65,
   "metadata": {},
   "outputs": [
    {
     "data": {
      "text/plain": [
       "Text(0.5, 1.0, 'Participants per age group')"
      ]
     },
     "execution_count": 65,
     "metadata": {},
     "output_type": "execute_result"
    },
    {
     "data": {
      "image/png": "[encoded data removed]",
      "text/plain": [
       "<Figure size 1152x576 with 1 Axes>"
      ]
     },
     "metadata": {
      "needs_background": "light"
     },
     "output_type": "display_data"
    }
   ],
   "source": [
    "data.age = data.age.astype(int)\n",
    "g = sns.countplot('age', data=data, palette=\"coolwarm\")\n",
    "g.figure.set_size_inches(16,8)\n",
    "g.set_title(\"Participants per age group\")"
   ]
  },
  {
   "cell_type": "markdown",
   "metadata": {},
   "source": [
    "> this constent attracted many  midle-age people from 40 - 50 "
   ]
  },
  {
   "cell_type": "markdown",
   "metadata": {},
   "source": [
    "### Finishers by age  & gender\n"
   ]
  },
  {
   "cell_type": "code",
   "execution_count": 64,
   "metadata": {},
   "outputs": [
    {
     "data": {
      "text/plain": [
       "Text(0.5, 1.0, 'Participants per Age & Gender')"
      ]
     },
     "execution_count": 64,
     "metadata": {},
     "output_type": "execute_result"
    },
    {
     "data": {
      "image/png": "[encoded data removed]",
      "text/plain": [
       "<Figure size 1152x576 with 1 Axes>"
      ]
     },
     "metadata": {
      "needs_background": "light"
     },
     "output_type": "display_data"
    }
   ],
   "source": [
    "g = sns.countplot('age', data=data, palette=\"coolwarm\", hue='gender_enc')\n",
    "g.figure.set_size_inches(16,8)\n",
    "g.set_title(\"Participants per Age & Gender\")"
   ]
  },
  {
   "cell_type": "markdown",
   "metadata": {},
   "source": [
    "> so suprised  that  female dominate the number of finisher in young group from 20 - 32\n",
    "> When the men get older they are tougher"
   ]
  },
  {
   "cell_type": "markdown",
   "metadata": {},
   "source": [
    "### Finishers by age  & official"
   ]
  },
  {
   "cell_type": "code",
   "execution_count": 77,
   "metadata": {},
   "outputs": [
    {
     "data": {
      "text/plain": [
       "Text(0.5, 1.0, 'Distribution of finish times per Age group')"
      ]
     },
     "execution_count": 77,
     "metadata": {},
     "output_type": "execute_result"
    },
    {
     "data": {
      "image/png": "[encoded data removed]",
      "text/plain": [
       "<Figure size 1152x576 with 1 Axes>"
      ]
     },
     "metadata": {
      "needs_background": "light"
     },
     "output_type": "display_data"
    }
   ],
   "source": [
    "g = sns.boxplot(x='age', y='official', data=data, palette=\"coolwarm\")\n",
    "g.figure.set_size_inches(16,8)\n",
    "g.set_title(\"Distribution of finish times per Age group\")"
   ]
  },
  {
   "cell_type": "markdown",
   "metadata": {},
   "source": [
    "## 3. Apply model\n",
    "## 3.1 Apply model without PCA\n"
   ]
  },
  {
   "cell_type": "code",
   "execution_count": 171,
   "metadata": {},
   "outputs": [],
   "source": [
    "# X = StandardScaler().fit_transform(data)\n",
    "# X = data\n",
    "# X"
   ]
  },
  {
   "cell_type": "code",
   "execution_count": 172,
   "metadata": {},
   "outputs": [],
   "source": [
    "X_scaled = StandardScaler().fit_transform(data)\n",
    "X_scaled = pd.DataFrame(X_scaled, columns = data.columns)"
   ]
  },
  {
   "cell_type": "code",
   "execution_count": 173,
   "metadata": {},
   "outputs": [],
   "source": [
    "def investigate_silhouette_score(X,start_i, end_i):\n",
    "    range_n_clusters = range(start_i, end_i)\n",
    "    for n_clusters in range_n_clusters:\n",
    "        clusterer = KMeans (n_clusters=n_clusters)\n",
    "        preds = clusterer.fit_predict(X)\n",
    "        centers = clusterer.cluster_centers_\n",
    "        score = silhouette_score (X, preds, metric='euclidean')\n",
    "        print (\"For n_clusters = {}, silhouette score is {})\".format(n_clusters, score))"
   ]
  },
  {
   "cell_type": "code",
   "execution_count": 174,
   "metadata": {},
   "outputs": [],
   "source": [
    "def investigate_ellbow(X,start_i, end_i):\n",
    "    range_n_clusters = range(start_i, end_i)\n",
    "    inertias = []\n",
    "    for k in range_n_clusters:\n",
    "        model = KMeans(n_clusters=k)\n",
    "        k_m = model.fit(X_scaled)\n",
    "        inertias.append(model.inertia_)\n",
    "    #     y_clust = k_m.predict(X_scaled)\n",
    "    #     score = silhouette_score (X_scaled, y_clust, metric='euclidean')\n",
    "    #     print (\"For n_clusters = {}, silhouette score is {})\".format(k, score))\n",
    "\n",
    "    plt.figure(figsize=(8,5))\n",
    "    plt.style.use('bmh')\n",
    "    plt.plot(range_n_clusters, inertias, '-o')\n",
    "    plt.xlabel('Number of clusters, k')\n",
    "    plt.ylabel('Inertia')\n",
    "    plt.xticks(range_n_clusters)\n",
    "    plt.show()"
   ]
  },
  {
   "cell_type": "code",
   "execution_count": 175,
   "metadata": {},
   "outputs": [
    {
     "name": "stdout",
     "output_type": "stream",
     "text": [
      "For n_clusters = 2, silhouette score is 0.4494824812771044)\n",
      "For n_clusters = 3, silhouette score is 0.3340327041035656)\n",
      "For n_clusters = 4, silhouette score is 0.27987219395669233)\n",
      "For n_clusters = 5, silhouette score is 0.3060316915117092)\n",
      "For n_clusters = 6, silhouette score is 0.317224671169796)\n",
      "For n_clusters = 7, silhouette score is 0.30583763954478504)\n"
     ]
    }
   ],
   "source": [
    "investigate_silhouette_score(X_scaled,2,8)"
   ]
  },
  {
   "cell_type": "code",
   "execution_count": 177,
   "metadata": {},
   "outputs": [
    {
     "data": {
      "image/png": "[encoded data removed]",
      "text/plain": [
       "<Figure size 576x360 with 1 Axes>"
      ]
     },
     "metadata": {
      "needs_background": "light"
     },
     "output_type": "display_data"
    }
   ],
   "source": [
    "investigate_ellbow(X_scaled,1,8)"
   ]
  },
  {
   "cell_type": "markdown",
   "metadata": {},
   "source": [
    "> Looks like the best value (\"elbow\" of the line) for k is 3 (three clusters)."
   ]
  },
  {
   "cell_type": "code",
   "execution_count": 179,
   "metadata": {},
   "outputs": [],
   "source": [
    "best_cluster_num =2;\n",
    "# best_cluster = KMeans(n_clusters=best_cluster_num)\n",
    "# best_cluster_model = best_cluster.fit(X)\n",
    "# print(\"model\\n\", best_cluster_model)"
   ]
  },
  {
   "cell_type": "code",
   "execution_count": 116,
   "metadata": {},
   "outputs": [],
   "source": [
    "# y_clust = best_cluster_model.predict(X)\n",
    "# silhouette_score(X, y_clust, metric='euclidean')"
   ]
  },
  {
   "cell_type": "code",
   "execution_count": 78,
   "metadata": {},
   "outputs": [],
   "source": [
    "# centers = best_cluster_model.cluster_centers_\n",
    "# centers"
   ]
  },
  {
   "cell_type": "code",
   "execution_count": 29,
   "metadata": {},
   "outputs": [],
   "source": [
    "# Function that creates a DataFrame with a column for Cluster Number\n",
    "\n",
    "# def pd_centers(featuresUsed, centers):\n",
    "#     colNames = list(featuresUsed)\n",
    "#     colNames.append('prediction')\n",
    "\n",
    "#     # Zip with a column called 'prediction' (index)\n",
    "#     Z = [np.append(A, index) for index, A in enumerate(centers)]\n",
    "\n",
    "#     # Convert to pandas data frame for plotting\n",
    "#     P = pd.DataFrame(Z, columns=colNames)\n",
    "#     P['prediction'] = P['prediction'].astype(int)\n",
    "#     return P"
   ]
  },
  {
   "cell_type": "code",
   "execution_count": 79,
   "metadata": {},
   "outputs": [],
   "source": [
    "P = pd_centers(data.select_dtypes(['int64', 'float64']).columns, centers)\n",
    "P"
   ]
  },
  {
   "cell_type": "markdown",
   "metadata": {},
   "source": [
    "#### Data exploration each cluster"
   ]
  },
  {
   "cell_type": "code",
   "execution_count": 180,
   "metadata": {
    "scrolled": false
   },
   "outputs": [
    {
     "name": "stdout",
     "output_type": "stream",
     "text": [
      "THIS IS CLUSTER 1\n",
      "                      count          mean          std    min      25%  \\\n",
      "10k                 18673.0     46.690596     4.779043  17.12    43.23   \n",
      "division            18673.0   1353.554008  1119.492138   1.00   466.00   \n",
      "25k                 18673.0    118.721547    12.429956  48.55   109.73   \n",
      "age                 18673.0     41.305843    10.425780  18.00    33.00   \n",
      "official            18673.0    211.755520    24.318578  84.82   194.72   \n",
      "genderdiv           18673.0   5286.372302  3288.734260   1.00  2524.00   \n",
      "35k                 18673.0    171.889208    18.967373  70.83   158.40   \n",
      "overall             18673.0  10344.985755  5999.462709   1.00  5214.00   \n",
      "pace                18673.0      8.084726     0.927582   3.25     7.43   \n",
      "30k                 18673.0    144.588139    15.479786  59.77   133.48   \n",
      "5k                  18673.0     23.323613     2.400359   8.02    21.65   \n",
      "half                18673.0     99.493725    10.268835  40.20    91.98   \n",
      "20k                 18673.0     94.274942     9.722691  38.02    87.15   \n",
      "40k                 18673.0    199.638908    22.731927  80.18   183.53   \n",
      "gender_enc          18673.0      0.420982     0.493730   0.00     0.00   \n",
      "cluster_assignment  18673.0      0.000000     0.000000   0.00     0.00   \n",
      "\n",
      "                         50%       75%       max  \n",
      "10k                    47.13     50.13     60.70  \n",
      "division             1056.00   1915.00   5405.00  \n",
      "25k                   119.95    128.15    149.23  \n",
      "age                    42.00     49.00     81.00  \n",
      "official              213.33    230.37    303.12  \n",
      "genderdiv            5079.00   7654.00  15483.00  \n",
      "35k                   173.40    186.58    237.68  \n",
      "overall             10329.00  15399.00  27508.00  \n",
      "pace                    8.15      8.80     11.57  \n",
      "30k                   146.08    156.52    179.05  \n",
      "5k                     23.52     25.02     36.57  \n",
      "half                  100.55    107.20    123.52  \n",
      "20k                    95.27    101.55    116.82  \n",
      "40k                   201.22    217.02    279.35  \n",
      "gender_enc              0.00      1.00      1.00  \n",
      "cluster_assignment      0.00      0.00      0.00  \n",
      "+++++++++++============================================================================+++++\n",
      "THIS IS CLUSTER 2\n",
      "                      count          mean          std       min        25%  \\\n",
      "10k                 10430.0     61.023017     6.222333     41.78     56.420   \n",
      "division            10430.0   3065.097891  2061.401778      1.00   1422.250   \n",
      "25k                 10430.0    161.652017    19.326134    117.78    146.285   \n",
      "age                 10430.0     43.394151    12.726380     18.00     33.000   \n",
      "official            10430.0    298.416928    36.848561    235.68    269.130   \n",
      "genderdiv           10430.0  12881.763183  2477.830457   6257.00  11031.250   \n",
      "35k                 10430.0    241.319244    30.391714    183.35    216.820   \n",
      "overall             10430.0  26071.050431  3392.334776  16897.00  23315.250   \n",
      "pace                10430.0     11.390078     1.405237      9.00     10.270   \n",
      "30k                 10430.0    200.219499    24.849613    140.52    180.370   \n",
      "5k                  10430.0     30.175630     2.990998     17.90     28.070   \n",
      "half                10430.0    133.385393    15.096135     96.53    121.680   \n",
      "20k                 10430.0    126.234426    14.231519     91.07    115.230   \n",
      "40k                 10430.0    281.670605    35.076398    223.15    253.680   \n",
      "gender_enc          10430.0      0.543049     0.498167      0.00      0.000   \n",
      "cluster_assignment  10430.0      1.000000     0.000000      1.00      1.000   \n",
      "\n",
      "                         50%         75%       max  \n",
      "10k                    60.02     64.6200    112.38  \n",
      "division             2300.50   5075.0000   6979.00  \n",
      "25k                   157.08    172.7800    289.02  \n",
      "age                    43.00     53.0000     81.00  \n",
      "official              290.37    321.5500    538.88  \n",
      "genderdiv           12997.50  14652.7500  17575.00  \n",
      "35k                   234.57    259.4775    449.33  \n",
      "overall             26173.50  28971.7500  31931.00  \n",
      "pace                   11.08     12.2700     20.57  \n",
      "30k                   194.38    214.4200    376.38  \n",
      "5k                     29.83     31.8700     86.95  \n",
      "half                  130.17    141.8800    236.67  \n",
      "20k                   123.18    134.1775    224.35  \n",
      "40k                   273.85    303.3150    508.35  \n",
      "gender_enc              1.00      1.0000      1.00  \n",
      "cluster_assignment      1.00      1.0000      1.00  \n",
      "+++++++++++============================================================================+++++\n"
     ]
    }
   ],
   "source": [
    "\n",
    "def investigate_kmeans_2(X,origin_data, best_cluster_num):\n",
    "    best_cluster_pred = KMeans(n_clusters=best_cluster_num, random_state=42).fit_predict(X)\n",
    "    X_pred = origin_data.copy()\n",
    "    X_pred['cluster_assignment'] = best_cluster_pred\n",
    "    #     X_pred = X.copy()\n",
    "    #     X_pred['cluster_assignment'] = best_cluster_pred\n",
    "\n",
    "    cluster_dataframes = {}\n",
    "    for n_clust in range(best_cluster_num):\n",
    "        cluster_dataframes[n_clust] = X_pred.loc[X_pred['cluster_assignment'] == n_clust]\n",
    "\n",
    "    for name, frame in cluster_dataframes.items():\n",
    "        print(f\"THIS IS CLUSTER {name+1}\")\n",
    "        print(frame.describe().transpose())\n",
    "        print(\"+++++++++++============================================================================+++++\")\n",
    "    return X_pred\n",
    "\n",
    "data_pred = investigate_kmeans_2(X_scaled,data, best_cluster_num)"
   ]
  },
  {
   "cell_type": "markdown",
   "metadata": {},
   "source": [
    "### Apply model with PCA"
   ]
  },
  {
   "cell_type": "code",
   "execution_count": 181,
   "metadata": {},
   "outputs": [
    {
     "data": {
      "image/png": "[encoded data removed]",
      "text/plain": [
       "<Figure size 576x288 with 1 Axes>"
      ]
     },
     "metadata": {
      "needs_background": "light"
     },
     "output_type": "display_data"
    }
   ],
   "source": [
    "#check for optimal number of features\n",
    "pca = PCA(random_state=123)\n",
    "pca.fit(X_scaled)\n",
    "features = range(pca.n_components_)\n",
    "\n",
    "plt.figure(figsize=(8,4))\n",
    "plt.bar(features[:15], pca.explained_variance_[:15], color='lightskyblue')\n",
    "plt.xlabel('PCA feature')\n",
    "plt.ylabel('Variance')\n",
    "plt.xticks(features[:15])\n",
    "plt.show()"
   ]
  },
  {
   "cell_type": "markdown",
   "metadata": {},
   "source": [
    "> 2 feature seems to be best fit for our algorithm."
   ]
  },
  {
   "cell_type": "code",
   "execution_count": 183,
   "metadata": {},
   "outputs": [
    {
     "name": "stdout",
     "output_type": "stream",
     "text": [
      "Shape of the new Data pca: (29103, 2)\n"
     ]
    }
   ],
   "source": [
    "pca = PCA(n_components=2, random_state=123)\n",
    "data_pca = pca.fit_transform(X_scaled)\n",
    "print('Shape of the new Data pca: ' + str(data_pca.shape))"
   ]
  },
  {
   "cell_type": "code",
   "execution_count": 184,
   "metadata": {},
   "outputs": [
    {
     "name": "stdout",
     "output_type": "stream",
     "text": [
      "For n_clusters = 2, silhouette score is 0.5082208859003402)\n",
      "For n_clusters = 3, silhouette score is 0.40767032189962177)\n",
      "For n_clusters = 4, silhouette score is 0.35461215199807444)\n",
      "For n_clusters = 5, silhouette score is 0.354403049161937)\n",
      "For n_clusters = 6, silhouette score is 0.36454144085349843)\n",
      "For n_clusters = 7, silhouette score is 0.37491365455672854)\n"
     ]
    }
   ],
   "source": [
    "investigate_silhouette_score(data_pca,2,8)"
   ]
  },
  {
   "cell_type": "code",
   "execution_count": 185,
   "metadata": {
    "scrolled": true
   },
   "outputs": [
    {
     "data": {
      "image/png": "[encoded data removed]",
      "text/plain": [
       "<Figure size 576x360 with 1 Axes>"
      ]
     },
     "metadata": {
      "needs_background": "light"
     },
     "output_type": "display_data"
    }
   ],
   "source": [
    "investigate_ellbow(data_pca,1,8)"
   ]
  },
  {
   "cell_type": "markdown",
   "metadata": {},
   "source": [
    "> the silhouette score is better and the best K  is still 2"
   ]
  },
  {
   "cell_type": "code",
   "execution_count": null,
   "metadata": {},
   "outputs": [],
   "source": [
    "best_cluster_num = 2"
   ]
  },
  {
   "cell_type": "code",
   "execution_count": 188,
   "metadata": {},
   "outputs": [],
   "source": [
    "data_pca = pd.DataFrame(data_pca, columns = ['label1','label2'])"
   ]
  },
  {
   "cell_type": "code",
   "execution_count": 189,
   "metadata": {},
   "outputs": [
    {
     "name": "stdout",
     "output_type": "stream",
     "text": [
      "THIS IS CLUSTER 1\n",
      "                      count      mean       std       min       25%       50%  \\\n",
      "label1              10533.0  3.750236  2.223815  0.806073  1.906100  3.317382   \n",
      "label2              10533.0  0.001353  1.544518 -2.963160 -1.435212  0.110840   \n",
      "cluster_assignment  10533.0  0.000000  0.000000  0.000000  0.000000  0.000000   \n",
      "\n",
      "                         75%        max  \n",
      "label1              5.135069  17.876516  \n",
      "label2              1.147536   4.089331  \n",
      "cluster_assignment  0.000000   0.000000  \n",
      "+++++++++++============================================================================+++++\n",
      "THIS IS CLUSTER 2\n",
      "                      count      mean       std        min       25%      50%  \\\n",
      "label1              18570.0 -2.127153  1.755455 -10.947860 -3.396483 -1.97787   \n",
      "label2              18570.0 -0.000768  1.086785  -2.572132 -0.879646  0.01849   \n",
      "cluster_assignment  18570.0  1.000000  0.000000   1.000000  1.000000  1.00000   \n",
      "\n",
      "                         75%       max  \n",
      "label1             -0.741291  0.805315  \n",
      "label2              0.771448  3.604437  \n",
      "cluster_assignment  1.000000  1.000000  \n",
      "+++++++++++============================================================================+++++\n"
     ]
    }
   ],
   "source": [
    "data_pred_pca = investigate_kmeans_2(data_pca,data_pca, best_cluster_num)"
   ]
  },
  {
   "cell_type": "code",
   "execution_count": 191,
   "metadata": {},
   "outputs": [
    {
     "data": {
      "text/html": [
       "<div>\n",
       "<style scoped>\n",
       "    .dataframe tbody tr th:only-of-type {\n",
       "        vertical-align: middle;\n",
       "    }\n",
       "\n",
       "    .dataframe tbody tr th {\n",
       "        vertical-align: top;\n",
       "    }\n",
       "\n",
       "    .dataframe thead th {\n",
       "        text-align: right;\n",
       "    }\n",
       "</style>\n",
       "<table border=\"1\" class=\"dataframe\">\n",
       "  <thead>\n",
       "    <tr style=\"text-align: right;\">\n",
       "      <th></th>\n",
       "      <th>label1</th>\n",
       "      <th>label2</th>\n",
       "      <th>cluster_assignment</th>\n",
       "    </tr>\n",
       "  </thead>\n",
       "  <tbody>\n",
       "    <tr>\n",
       "      <td>0</td>\n",
       "      <td>-7.548304</td>\n",
       "      <td>-0.305843</td>\n",
       "      <td>1</td>\n",
       "    </tr>\n",
       "    <tr>\n",
       "      <td>1</td>\n",
       "      <td>-10.930923</td>\n",
       "      <td>-0.513932</td>\n",
       "      <td>1</td>\n",
       "    </tr>\n",
       "    <tr>\n",
       "      <td>2</td>\n",
       "      <td>-6.693082</td>\n",
       "      <td>-1.086615</td>\n",
       "      <td>1</td>\n",
       "    </tr>\n",
       "    <tr>\n",
       "      <td>3</td>\n",
       "      <td>-10.654799</td>\n",
       "      <td>0.661572</td>\n",
       "      <td>1</td>\n",
       "    </tr>\n",
       "    <tr>\n",
       "      <td>4</td>\n",
       "      <td>-10.676744</td>\n",
       "      <td>-0.444639</td>\n",
       "      <td>1</td>\n",
       "    </tr>\n",
       "    <tr>\n",
       "      <td>...</td>\n",
       "      <td>...</td>\n",
       "      <td>...</td>\n",
       "      <td>...</td>\n",
       "    </tr>\n",
       "    <tr>\n",
       "      <td>29098</td>\n",
       "      <td>-1.320283</td>\n",
       "      <td>-0.835273</td>\n",
       "      <td>1</td>\n",
       "    </tr>\n",
       "    <tr>\n",
       "      <td>29099</td>\n",
       "      <td>4.341840</td>\n",
       "      <td>-0.762698</td>\n",
       "      <td>0</td>\n",
       "    </tr>\n",
       "    <tr>\n",
       "      <td>29100</td>\n",
       "      <td>3.051492</td>\n",
       "      <td>-2.568197</td>\n",
       "      <td>0</td>\n",
       "    </tr>\n",
       "    <tr>\n",
       "      <td>29101</td>\n",
       "      <td>4.564534</td>\n",
       "      <td>-1.549821</td>\n",
       "      <td>0</td>\n",
       "    </tr>\n",
       "    <tr>\n",
       "      <td>29102</td>\n",
       "      <td>-0.108314</td>\n",
       "      <td>1.348730</td>\n",
       "      <td>1</td>\n",
       "    </tr>\n",
       "  </tbody>\n",
       "</table>\n",
       "<p>29103 rows × 3 columns</p>\n",
       "</div>"
      ],
      "text/plain": [
       "          label1    label2  cluster_assignment\n",
       "0      -7.548304 -0.305843                   1\n",
       "1     -10.930923 -0.513932                   1\n",
       "2      -6.693082 -1.086615                   1\n",
       "3     -10.654799  0.661572                   1\n",
       "4     -10.676744 -0.444639                   1\n",
       "...          ...       ...                 ...\n",
       "29098  -1.320283 -0.835273                   1\n",
       "29099   4.341840 -0.762698                   0\n",
       "29100   3.051492 -2.568197                   0\n",
       "29101   4.564534 -1.549821                   0\n",
       "29102  -0.108314  1.348730                   1\n",
       "\n",
       "[29103 rows x 3 columns]"
      ]
     },
     "execution_count": 191,
     "metadata": {},
     "output_type": "execute_result"
    }
   ],
   "source": [
    "data_pred_pca"
   ]
  },
  {
   "cell_type": "code",
   "execution_count": 194,
   "metadata": {},
   "outputs": [
    {
     "data": {
      "image/png": "[encoded data removed]",
      "text/plain": [
       "<Figure size 432x288 with 1 Axes>"
      ]
     },
     "metadata": {
      "needs_background": "light"
     },
     "output_type": "display_data"
    }
   ],
   "source": [
    "#Visualizing all the clusters \n",
    "\n",
    "plt.scatter(data_pred_pca.label1[data_pred_pca['cluster_assignment'] == 0], data_pred_pca.label2[data_pred_pca['cluster_assignment'] == 0], s = 100, c = 'red', label = 'Cluster 1')\n",
    "plt.scatter(data_pred_pca.label1[data_pred_pca['cluster_assignment'] == 1], data_pred_pca.label2[data_pred_pca['cluster_assignment'] == 1], s = 100, c = 'blue', label = 'Cluster 2')\n",
    "plt.title('Clusters of the marathon result ')\n",
    "plt.legend()\n",
    "plt.show()"
   ]
  },
  {
   "cell_type": "markdown",
   "metadata": {},
   "source": [
    "## 4. Analyse the clusters\n"
   ]
  },
  {
   "cell_type": "code",
   "execution_count": 195,
   "metadata": {},
   "outputs": [
    {
     "name": "stdout",
     "output_type": "stream",
     "text": [
      "THIS IS CLUSTER 1\n",
      "                      count          mean          std       min       25%  \\\n",
      "10k                 10533.0     60.962535     6.224193     41.78     56.35   \n",
      "division            10533.0   3046.506219  2062.242029      1.00   1402.00   \n",
      "25k                 10533.0    161.446374    19.342958    117.78    146.05   \n",
      "age                 10533.0     43.449919    12.710763     18.00     33.00   \n",
      "official            10533.0    297.947220    36.976801    233.07    268.43   \n",
      "genderdiv           10533.0  12836.131017  2509.975344   5791.00  10958.00   \n",
      "35k                 10533.0    240.954960    30.465571    183.35    216.42   \n",
      "overall             10533.0  26012.418589  3429.083250  16108.00  23224.00   \n",
      "pace                10533.0     11.372170     1.410122      8.90     10.25   \n",
      "30k                 10533.0    199.939371    24.888358    140.52    179.98   \n",
      "5k                  10533.0     30.148027     2.991246     17.90     28.03   \n",
      "half                10533.0    133.229971    15.104630     96.53    121.48   \n",
      "20k                 10533.0    126.088664    14.238971     91.07    114.98   \n",
      "40k                 10533.0    281.226712    35.193256    222.08    253.08   \n",
      "gender_enc          10533.0      0.547138     0.497797      0.00      0.00   \n",
      "cluster_assignment  10533.0      0.000000     0.000000      0.00      0.00   \n",
      "\n",
      "                         50%       75%       max  \n",
      "10k                    59.93     64.57    112.38  \n",
      "division             2289.00   5062.00   6979.00  \n",
      "25k                   156.87    172.50    289.02  \n",
      "age                    43.00     53.00     81.00  \n",
      "official              289.90    321.12    538.88  \n",
      "genderdiv           12967.00  14622.00  17575.00  \n",
      "35k                   234.18    259.20    449.33  \n",
      "overall             26116.00  28945.00  31931.00  \n",
      "pace                   11.07     12.25     20.57  \n",
      "30k                   194.08    214.07    376.38  \n",
      "5k                     29.80     31.85     86.95  \n",
      "half                  129.97    141.77    236.67  \n",
      "20k                   123.07    134.08    224.35  \n",
      "40k                   273.37    302.83    508.35  \n",
      "gender_enc              1.00      1.00      1.00  \n",
      "cluster_assignment      0.00      0.00      0.00  \n",
      "+++++++++++============================================================================+++++\n",
      "THIS IS CLUSTER 2\n",
      "                      count          mean          std    min        25%  \\\n",
      "10k                 18570.0     46.645406     4.751624  17.12    43.2200   \n",
      "division            18570.0   1354.606085  1119.969481   1.00   466.2500   \n",
      "25k                 18570.0    118.600072    12.356125  48.55   109.6700   \n",
      "age                 18570.0     41.262628    10.414740  18.00    33.0000   \n",
      "official            18570.0    211.541266    24.209963  84.82   194.5700   \n",
      "genderdiv           18570.0   5270.126656  3289.761405   1.00  2511.2500   \n",
      "35k                 18570.0    171.710733    18.866143  70.83   158.3000   \n",
      "overall             18570.0  10291.016155  5971.312498   1.00  5185.2500   \n",
      "pace                18570.0      8.076549     0.923432   3.25     7.4300   \n",
      "30k                 18570.0    144.438465    15.390924  59.77   133.4225   \n",
      "5k                  18570.0     23.301264     2.386719   8.02    21.6300   \n",
      "half                18570.0     99.393898    10.208088  40.20    91.9300   \n",
      "20k                 18570.0     94.180353     9.664862  38.02    87.1000   \n",
      "40k                 18570.0    199.435690    22.626432  80.18   183.4500   \n",
      "gender_enc          18570.0      0.417986     0.493241   0.00     0.0000   \n",
      "cluster_assignment  18570.0      1.000000     0.000000   1.00     1.0000   \n",
      "\n",
      "                          50%       75%       max  \n",
      "10k                    47.100     50.07     60.70  \n",
      "division             1056.000   1920.00   5405.00  \n",
      "25k                   119.850    128.00    149.23  \n",
      "age                    42.000     49.00     81.00  \n",
      "official              213.125    230.03    303.12  \n",
      "genderdiv            5051.500   7617.75  15483.00  \n",
      "35k                   173.250    186.33    237.68  \n",
      "overall             10268.500  15315.75  27508.00  \n",
      "pace                    8.130      8.78     11.57  \n",
      "30k                   145.950    156.28    179.05  \n",
      "5k                     23.500     24.98     36.57  \n",
      "half                  100.470    107.07    123.52  \n",
      "20k                    95.170    101.43    116.82  \n",
      "40k                   201.040    216.77    279.35  \n",
      "gender_enc              0.000      1.00      1.00  \n",
      "cluster_assignment      1.000      1.00      1.00  \n",
      "+++++++++++============================================================================+++++\n"
     ]
    }
   ],
   "source": [
    "data_pred = investigate_kmeans_2(data_pca,data, best_cluster_num)"
   ]
  },
  {
   "cell_type": "code",
   "execution_count": 196,
   "metadata": {},
   "outputs": [],
   "source": [
    "\n",
    "def get_cluster_by_assignment(X, cluster_assignment_num ):\n",
    "        \n",
    "        return  X.loc[X['cluster_assignment'] == cluster_assignment_num]\n",
    "\n",
    "     "
   ]
  },
  {
   "cell_type": "code",
   "execution_count": 197,
   "metadata": {},
   "outputs": [],
   "source": [
    "k_cluster1 = get_cluster_by_assignment( data_pred, 0 )\n",
    "k_cluster2 = get_cluster_by_assignment( data_pred, 1 )\n",
    "# k_cluster3 = get_cluster_by_assignment( data_pred, 2 )\n",
    "# k_cluster4 = get_cluster_by_assignment( data_pred, 3 )"
   ]
  },
  {
   "cell_type": "code",
   "execution_count": 34,
   "metadata": {},
   "outputs": [],
   "source": [
    "# k_cluster1['gender_enc'].value_counts()"
   ]
  },
  {
   "cell_type": "code",
   "execution_count": 35,
   "metadata": {},
   "outputs": [],
   "source": [
    "# f, plotgrid = plt.subplots(2, 2,figsize=(15,8))\n",
    "# sns.countplot(data=k_cluster1, x = 'gender_enc', ax = plotgrid[0,0])\n",
    "# sns.countplot(data=k_cluster2, x = 'gender_enc', ax = plotgrid[0,1])\n",
    "# sns.countplot(data=k_cluster3, x = 'gender_enc', ax = plotgrid[1,0])\n",
    "# sns.countplot(data=k_cluster4, x = 'gender_enc', ax = plotgrid[1,1])"
   ]
  },
  {
   "cell_type": "code",
   "execution_count": 199,
   "metadata": {},
   "outputs": [],
   "source": [
    "# f, plotgrid = plt.subplots(2, 2,figsize=(15,10))\n",
    "# for i in range(4):\n",
    "#     rows = int(np.floor(i / 2))\n",
    "#                 # 0,0,1,1\n",
    "#     cols = i % 2\n",
    "#                 # 0,1,0,1\n",
    "#     x_data = get_cluster_by_assignment( data_pred, i  )    \n",
    "#     sns.countplot(data= x_data, x = 'gender_enc', ax = plotgrid[rows,cols]) \n",
    "#     plotgrid[rows, cols].set_xlabel(f'Male & Female -  {x_data.gender_enc.count()} ')\n",
    "#     plotgrid[rows, cols].set_ylabel('Number of Occurrences')\n",
    "#     plotgrid[rows, cols].set_title(f'Cluster {i}')"
   ]
  },
  {
   "cell_type": "markdown",
   "metadata": {},
   "source": [
    "### 4.1 1. Draw bar graphs (both male & female in different color) for each cluster for male and female, from the bar graphs, you can tell things as which cluster contains the most number of female (or male)."
   ]
  },
  {
   "cell_type": "code",
   "execution_count": 205,
   "metadata": {},
   "outputs": [
    {
     "data": {
      "image/png": "[encoded data removed]",
      "text/plain": [
       "<Figure size 864x432 with 2 Axes>"
      ]
     },
     "metadata": {
      "needs_background": "light"
     },
     "output_type": "display_data"
    }
   ],
   "source": [
    "f, (ax1, ax2) = plt.subplots(1, 2,figsize=(12,6))\n",
    "sns.countplot(data=k_cluster1, x = 'gender_enc', ax = ax1) \n",
    "ax1.set_title(f'Cluster {1} : {k_cluster1.AgeGroup.count()}')\n",
    "sns.countplot(data=k_cluster2, x = 'gender_enc', ax = ax2) \n",
    "ax2.set_title(f'Cluster {2} : {k_cluster2.AgeGroup.count()}')\n",
    "plt.show()"
   ]
  },
  {
   "cell_type": "markdown",
   "metadata": {},
   "source": [
    "> the amount of people in cluster 1 is fewer than cluster 2\n",
    "> the amount of female in cluster 1 is greater than cluster 2\n",
    "> the mean pace of cluster 1 (12) > cluster 2 (7) -> it quite looks like the distribution graph by age in data exploration content \n"
   ]
  },
  {
   "cell_type": "markdown",
   "metadata": {},
   "source": [
    "### 4.2 Draw bar graphs for runners in different ranges of age (dividing by 3 groups: 18-25, 26-40, 40-70 or so)"
   ]
  },
  {
   "cell_type": "code",
   "execution_count": 209,
   "metadata": {},
   "outputs": [
    {
     "name": "stderr",
     "output_type": "stream",
     "text": [
      "c:\\python\\python37\\lib\\site-packages\\ipykernel_launcher.py:3: SettingWithCopyWarning: \n",
      "A value is trying to be set on a copy of a slice from a DataFrame.\n",
      "Try using .loc[row_indexer,col_indexer] = value instead\n",
      "\n",
      "See the caveats in the documentation: http://pandas.pydata.org/pandas-docs/stable/user_guide/indexing.html#returning-a-view-versus-a-copy\n",
      "  This is separate from the ipykernel package so we can avoid doing imports until\n",
      "c:\\python\\python37\\lib\\site-packages\\ipykernel_launcher.py:4: SettingWithCopyWarning: \n",
      "A value is trying to be set on a copy of a slice from a DataFrame.\n",
      "Try using .loc[row_indexer,col_indexer] = value instead\n",
      "\n",
      "See the caveats in the documentation: http://pandas.pydata.org/pandas-docs/stable/user_guide/indexing.html#returning-a-view-versus-a-copy\n",
      "  after removing the cwd from sys.path.\n"
     ]
    }
   ],
   "source": [
    "bins= [18,26,41,71,90]\n",
    "labels = ['18-25','26-40','41-70','71-90']\n",
    "k_cluster1['AgeGroup'] = pd.cut(k_cluster1['age'], bins=bins, labels=labels, right=False)\n",
    "k_cluster2['AgeGroup'] = pd.cut(k_cluster2['age'], bins=bins, labels=labels, right=False)\n",
    "# k_cluster3['AgeGroup'] = pd.cut(k_cluster3['age'], bins=bins, labels=labels, right=False)\n",
    "# k_cluster4['AgeGroup'] = pd.cut(k_cluster4['age'], bins=bins, labels=labels, right=False)"
   ]
  },
  {
   "cell_type": "code",
   "execution_count": 201,
   "metadata": {},
   "outputs": [
    {
     "data": {
      "text/plain": [
       "10533"
      ]
     },
     "execution_count": 201,
     "metadata": {},
     "output_type": "execute_result"
    }
   ],
   "source": [
    "k_cluster1.AgeGroup.count()"
   ]
  },
  {
   "cell_type": "code",
   "execution_count": 206,
   "metadata": {},
   "outputs": [
    {
     "data": {
      "image/png": "[encoded data removed]",
      "text/plain": [
       "<Figure size 864x432 with 2 Axes>"
      ]
     },
     "metadata": {
      "needs_background": "light"
     },
     "output_type": "display_data"
    }
   ],
   "source": [
    "\n",
    "f, (ax1, ax2) = plt.subplots(1, 2,figsize=(12,6))\n",
    "\n",
    "sns.countplot(data=k_cluster1, x = 'AgeGroup', ax = ax1) \n",
    "ax1.set_title(f'Cluster {1} : {k_cluster1.AgeGroup.count()}')\n",
    "sns.countplot(data=k_cluster2, x = 'AgeGroup', ax = ax2) \n",
    "ax2.set_title(f'Cluster {2} : {k_cluster2.AgeGroup.count()}')\n",
    "# sns.countplot(data=k_cluster3, x = 'AgeGroup', ax = plotgrid[1,0]) \n",
    "# plotgrid[1,0].set_title(f'Cluster {3} : {k_cluster3.AgeGroup.count()}')\n",
    "# sns.countplot(data=k_cluster4, x = 'AgeGroup', ax = plotgrid[1,1]) \n",
    "# plotgrid[1,1].set_title(f'Cluster {4} : {k_cluster4.AgeGroup.count()}')\n",
    "plt.show()"
   ]
  },
  {
   "cell_type": "markdown",
   "metadata": {},
   "source": [
    "> age group doesn't tell us much about the cluster"
   ]
  },
  {
   "cell_type": "markdown",
   "metadata": {},
   "source": [
    "### 4.3  Draw bar graphs for runners for finishing time  (which group runs fastest)\n",
    "#### 4.3.1  Finished Time"
   ]
  },
  {
   "cell_type": "code",
   "execution_count": 208,
   "metadata": {},
   "outputs": [
    {
     "data": {
      "text/plain": [
       "Text(0.5, 1.0, 'Cluster 2 : 18570')"
      ]
     },
     "execution_count": 208,
     "metadata": {},
     "output_type": "execute_result"
    },
    {
     "data": {
      "image/png": "[encoded data removed]",
      "text/plain": [
       "<Figure size 864x432 with 2 Axes>"
      ]
     },
     "metadata": {
      "needs_background": "light"
     },
     "output_type": "display_data"
    }
   ],
   "source": [
    "f, (ax1, ax2) = plt.subplots(1, 2,figsize=(12,6))\n",
    "\n",
    "sns.barplot(data=k_cluster1, x = 'AgeGroup', y ='official', ax = ax1) \n",
    "ax1.set_title(f'Cluster {1} : {k_cluster1.AgeGroup.count()}')\n",
    "sns.barplot(data=k_cluster2, x = 'AgeGroup',  y ='official',ax = ax2) \n",
    "ax2.set_title(f'Cluster {2} : {k_cluster2.AgeGroup.count()}')"
   ]
  },
  {
   "cell_type": "markdown",
   "metadata": {},
   "source": [
    ">  offical mean of cluster 1 : 321.12 \n",
    ">  offical mean of cluster 2 : 211"
   ]
  },
  {
   "cell_type": "markdown",
   "metadata": {},
   "source": [
    "## 5. Cluster for only Male group"
   ]
  }
 ],
 "metadata": {
  "kernelspec": {
   "display_name": "Python 3",
   "language": "python",
   "name": "python3"
  },
  "language_info": {
   "codemirror_mode": {
    "name": "ipython",
    "version": 3
   },
   "file_extension": ".py",
   "mimetype": "text/x-python",
   "name": "python",
   "nbconvert_exporter": "python",
   "pygments_lexer": "ipython3",
   "version": "3.7.4"
  }
 },
 "nbformat": 4,
 "nbformat_minor": 2
}
